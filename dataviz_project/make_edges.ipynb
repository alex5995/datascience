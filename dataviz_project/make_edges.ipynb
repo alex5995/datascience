{
 "cells": [
  {
   "cell_type": "code",
   "execution_count": 1,
   "metadata": {
    "collapsed": true
   },
   "outputs": [],
   "source": [
    "import pandas as pd\n",
    "import numpy as np"
   ]
  },
  {
   "cell_type": "code",
   "execution_count": 3,
   "metadata": {
    "collapsed": true
   },
   "outputs": [],
   "source": [
    "data = pd.read_csv(\"agg.csv\")\n",
    "data = data.iloc[:,1:]\n",
    "data.columns = [\"state\", \"prod\", \"n\"]\n",
    "products = list(data.groupby(\"prod\"))"
   ]
  },
  {
   "cell_type": "code",
   "execution_count": 12,
   "metadata": {
    "collapsed": true
   },
   "outputs": [],
   "source": [
    "mydict = {}\n",
    "paesi = {}\n",
    "for prodotto in products:\n",
    "    tab = prodotto[1]\n",
    "    for i in list(range(0,len(tab))):\n",
    "        paese = tab.iloc[i].state\n",
    "        if paese in list(paesi.keys()):\n",
    "            paesi[paese]+=tab.iloc[i].n\n",
    "        else:\n",
    "            paesi[paese]=tab.iloc[i].n\n",
    "        if len(tab)>1:    \n",
    "            for j in list(range(i+1,len(tab))):\n",
    "                chiave = tab.iloc[i].state + \"\\t\" + tab.iloc[j].state\n",
    "                chiave2 = tab.iloc[j].state + \"\\t\" + tab.iloc[i].state\n",
    "                valore = [tab.iloc[i].n, tab.iloc[j].n]\n",
    "                if chiave in list(mydict.keys()):\n",
    "                    mydict[chiave][0] += valore[0]\n",
    "                    mydict[chiave][1] += valore[1]\n",
    "                elif chiave2 in list(mydict.keys()):\n",
    "                    mydict[chiave2][0] += valore[0]\n",
    "                    mydict[chiave2][1] += valore[1]\n",
    "                else:\n",
    "                    mydict[chiave] = valore"
   ]
  },
  {
   "cell_type": "code",
   "execution_count": 15,
   "metadata": {
    "collapsed": true
   },
   "outputs": [],
   "source": [
    "for el in mydict:\n",
    "    lista = el.split(\"\\t\")\n",
    "    totale = paesi[lista[0]] * paesi[lista[1]]\n",
    "    mydict[el] = (mydict[el][0] * mydict[el][1]) / totale"
   ]
  },
  {
   "cell_type": "code",
   "execution_count": 50,
   "metadata": {
    "collapsed": true,
    "scrolled": false
   },
   "outputs": [],
   "source": [
    "f = open(\"edges.csv\", \"w\")\n",
    "f.write(\"Source\" + \"\\t\" + \"Target\" + \"\\t\" + \"Weight\" + \"\\n\")\n",
    "for el in mydict:\n",
    "    w = round(mydict[el], 2)\n",
    "    if w >= 0.25:\n",
    "        f.write(el + \"\\t\" + str(w) + \"\\n\")\n",
    "f.close()"
   ]
  },
  {
   "cell_type": "code",
   "execution_count": 72,
   "metadata": {
    "collapsed": true
   },
   "outputs": [],
   "source": [
    "edges = pd.read_csv(\"edges.csv\", sep='\\t')\n",
    "nodi = pd.read_csv(\"nodi.csv\")\n",
    "edges = edges[((edges.Source!=\"Unspecified\") & (edges.Target!=\"Unspecified\"))]\n",
    "def sino(x):\n",
    "    if ((x in list(edges.Source)) | (x in list(edges.Target))):\n",
    "        return(True)\n",
    "    else:\n",
    "        return(False)\n",
    "sel = nodi.Id.apply(sino)\n",
    "nodi[sel].to_csv(\"nodi.csv\", index=False)\n",
    "edges.to_csv(\"edges.csv\", index=False)"
   ]
  }
 ],
 "metadata": {
  "kernelspec": {
   "display_name": "Python 3",
   "language": "python",
   "name": "python3"
  },
  "language_info": {
   "codemirror_mode": {
    "name": "ipython",
    "version": 3
   },
   "file_extension": ".py",
   "mimetype": "text/x-python",
   "name": "python",
   "nbconvert_exporter": "python",
   "pygments_lexer": "ipython3",
   "version": "3.6.3"
  }
 },
 "nbformat": 4,
 "nbformat_minor": 2
}
