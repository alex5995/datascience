{
 "cells": [
  {
   "cell_type": "markdown",
   "metadata": {},
   "source": [
    "#### Assignment 3 - Alex Ceccotti - 790497"
   ]
  },
  {
   "cell_type": "code",
   "execution_count": 1,
   "metadata": {},
   "outputs": [
    {
     "name": "stderr",
     "output_type": "stream",
     "text": [
      "Using TensorFlow backend.\n"
     ]
    }
   ],
   "source": [
    "import os\n",
    "from matplotlib import pyplot as plt\n",
    "from time import time\n",
    "from skimage import feature\n",
    "from keras.preprocessing import image as kimage\n",
    "from keras.applications import mobilenet_v2\n",
    "import numpy as np\n",
    "from sklearn.svm import SVC\n",
    "from sklearn.model_selection import train_test_split, GridSearchCV\n",
    "from sklearn.metrics import classification_report, confusion_matrix, accuracy_score\n",
    "import joblib"
   ]
  },
  {
   "cell_type": "markdown",
   "metadata": {},
   "source": [
    "Carico la rete neurale MobileNetV2 togliendo gli strati fully connected."
   ]
  },
  {
   "cell_type": "code",
   "execution_count": 2,
   "metadata": {},
   "outputs": [
    {
     "name": "stderr",
     "output_type": "stream",
     "text": [
      "C:\\Users\\alexc\\Anaconda3\\envs\\dsim\\lib\\site-packages\\keras_applications\\mobilenet_v2.py:306: UserWarning: MobileNet shape is undefined. Weights for input shape(224, 224) will be loaded.\n",
      "  warnings.warn('MobileNet shape is undefined.'\n"
     ]
    }
   ],
   "source": [
    "net = mobilenet_v2.MobileNetV2(include_top=False, weights='imagenet', pooling='max')"
   ]
  },
  {
   "cell_type": "markdown",
   "metadata": {},
   "source": [
    "Definisco la funzione \"load_data\" in modo da caricare le immagini con delle label associate. In realtà, tramite la funzione \"mobilenet_features\" vengono caricate le feature estratte con MobileNetV2. Viene infine fatto lo split in train e test set."
   ]
  },
  {
   "cell_type": "code",
   "execution_count": 3,
   "metadata": {},
   "outputs": [],
   "source": [
    "def load_data(feature_extractor, directory, maximages=-1, ext='.jpg'):\n",
    "    base_path = './'+directory+'/'\n",
    "    labels = []\n",
    "    features = []\n",
    "    for di,d in enumerate(sorted(os.listdir(base_path))):\n",
    "        for fi,f in enumerate(sorted(os.listdir(base_path + d + '/'))):\n",
    "            if f.endswith(ext) and (fi<maximages or maximages==-1):\n",
    "                image = kimage.load_img(base_path + d + '/' + f, target_size=(224, 224))\n",
    "                cur_features = feature_extractor(image)\n",
    "                features.append(cur_features)\n",
    "                labels.append(di)\n",
    "        print(\"Caricate \" + str(fi+1) + \" immagini dalla cartella numero \" + str(di) + \" (\" + d + \")\")\n",
    "        fi = -1\n",
    "    X_train, X_test, y_train, y_test = train_test_split(features, labels, test_size=0.3, shuffle=True, random_state=1)\n",
    "    return X_train, X_test, y_train, y_test"
   ]
  },
  {
   "cell_type": "code",
   "execution_count": 4,
   "metadata": {},
   "outputs": [],
   "source": [
    "def mobilenet_features(img):\n",
    "    x = kimage.img_to_array(img)\n",
    "    x = np.expand_dims(x, axis=0)\n",
    "    x = mobilenet_v2.preprocess_input(x)\n",
    "    f = net.predict(x)\n",
    "    return f.flatten()"
   ]
  },
  {
   "cell_type": "code",
   "execution_count": 5,
   "metadata": {},
   "outputs": [
    {
     "name": "stdout",
     "output_type": "stream",
     "text": [
      "Caricate 500 immagini dalla cartella numero 0 (cat500)\n",
      "Caricate 500 immagini dalla cartella numero 1 (dog500)\n",
      "Caricamento in  212.128 secondi\n"
     ]
    }
   ],
   "source": [
    "t0 = time()\n",
    "X_train, X_test, y_train, y_test=load_data(feature_extractor=mobilenet_features, directory=\"classes\")\n",
    "print(\"Caricamento in  %0.3f secondi\" %(time() - t0))"
   ]
  },
  {
   "cell_type": "code",
   "execution_count": 6,
   "metadata": {},
   "outputs": [
    {
     "data": {
      "text/plain": [
       "(1280,)"
      ]
     },
     "execution_count": 6,
     "metadata": {},
     "output_type": "execute_result"
    }
   ],
   "source": [
    "X_train[6].shape"
   ]
  },
  {
   "cell_type": "markdown",
   "metadata": {},
   "source": [
    "Vengono caricate 500 immagini di cani e 500 immagini di gatti. Ad ogni immagine sono associate 1280 features. Bisogna ora procedere con la normalizzazione. Viene infine fatto un dump del train e del test set con le features normalizzate in modo da non dover rifare ogni volta tutto il processo di estrazione delle features."
   ]
  },
  {
   "cell_type": "code",
   "execution_count": 7,
   "metadata": {},
   "outputs": [],
   "source": [
    "X_train_stack = np.array([])\n",
    "for t in X_train:\n",
    "    X_train_stack = np.concatenate((X_train_stack, t))\n",
    "eps = 0.001\n",
    "X_train_mean = X_train_stack.mean()\n",
    "X_train_std = X_train_stack.std()\n",
    "X_train = [(t - X_train_mean + eps)/(X_train_std + eps) for t in X_train]\n",
    "X_test = [(t - X_train_mean + eps)/(X_train_std + eps) for t in X_test]"
   ]
  },
  {
   "cell_type": "code",
   "execution_count": 8,
   "metadata": {},
   "outputs": [
    {
     "data": {
      "text/plain": [
       "['feat_data.joblib']"
      ]
     },
     "execution_count": 8,
     "metadata": {},
     "output_type": "execute_result"
    }
   ],
   "source": [
    "joblib.dump([X_train, X_test, y_train, y_test], 'feat_data.joblib')"
   ]
  },
  {
   "cell_type": "markdown",
   "metadata": {},
   "source": [
    "A partire dalle feature normalizzate viene allenata una SVM."
   ]
  },
  {
   "cell_type": "code",
   "execution_count": 9,
   "metadata": {},
   "outputs": [
    {
     "name": "stdout",
     "output_type": "stream",
     "text": [
      "Addestramento completato in 127.339s\n",
      "Migliore combinazione di parametri:\n",
      " C: 1\n",
      " gamma: 0.0001\n"
     ]
    }
   ],
   "source": [
    "param_grid = {'C': [0.1, 0.5, 1, 1.5, 2, 5],\n",
    "          'gamma': [0.00001, 0.0001, 0.001, 0.01, 0.1, 1], }\n",
    "\n",
    "clf = GridSearchCV(SVC(kernel='rbf', class_weight='balanced'), param_grid, cv=5, n_jobs=-1)\n",
    "\n",
    "t2 = time()\n",
    "clf = clf.fit(X_train, y_train)\n",
    "print(\"Addestramento completato in %0.3fs\" % (time() - t2))\n",
    "\n",
    "print(\"Migliore combinazione di parametri:\")\n",
    "print(\" C: \"+str(clf.best_estimator_.C))\n",
    "print(\" gamma: \"+str(clf.best_estimator_.gamma))"
   ]
  },
  {
   "cell_type": "markdown",
   "metadata": {},
   "source": [
    "I parametri ottimali sono C=1 e gamma=0.0001. Il report di classificazione sul test set è il seguente."
   ]
  },
  {
   "cell_type": "code",
   "execution_count": 10,
   "metadata": {},
   "outputs": [
    {
     "name": "stdout",
     "output_type": "stream",
     "text": [
      "Report di classificazione:\n",
      "              precision    recall  f1-score   support\n",
      "\n",
      "           0       0.99      0.98      0.99       149\n",
      "           1       0.98      0.99      0.99       151\n",
      "\n",
      "   micro avg       0.99      0.99      0.99       300\n",
      "   macro avg       0.99      0.99      0.99       300\n",
      "weighted avg       0.99      0.99      0.99       300\n",
      "\n"
     ]
    }
   ],
   "source": [
    "y_pred = clf.predict(X_test)\n",
    "\n",
    "print(\"Report di classificazione:\")\n",
    "print(classification_report(y_test, y_pred))"
   ]
  },
  {
   "cell_type": "code",
   "execution_count": 11,
   "metadata": {},
   "outputs": [
    {
     "name": "stdout",
     "output_type": "stream",
     "text": [
      "Matrice di confusione:\n",
      "[[146   3]\n",
      " [  1 150]]\n",
      "Accuracy: 0.987\n"
     ]
    }
   ],
   "source": [
    "print(\"Matrice di confusione:\")\n",
    "cm = confusion_matrix(y_test, y_pred)\n",
    "print(cm)\n",
    "\n",
    "print(\"Accuracy: \" + str(accuracy_score(y_test, y_pred)))"
   ]
  },
  {
   "cell_type": "markdown",
   "metadata": {},
   "source": [
    "Si ottengono valori alti sia di F1 (0.99) sia di accuracy (0.987)."
   ]
  },
  {
   "cell_type": "markdown",
   "metadata": {},
   "source": [
    "###### problema a scelta: icons"
   ]
  },
  {
   "cell_type": "markdown",
   "metadata": {},
   "source": [
    "Viene applicato lo stesso procedimento ad un dataset in cui sono presenti 50 classi. <br> Il dataset è scaricabile al seguente link: https://www.kaggle.com/danhendrycks/icons50 <br> Le immagini del dataset sono delle icone."
   ]
  },
  {
   "cell_type": "code",
   "execution_count": 15,
   "metadata": {
    "scrolled": true
   },
   "outputs": [
    {
     "name": "stdout",
     "output_type": "stream",
     "text": [
      "Caricate 76 immagini dalla cartella numero 0 (airplane)\n",
      "Caricate 392 immagini dalla cartella numero 1 (arrow_directions)\n",
      "Caricate 192 immagini dalla cartella numero 2 (ball)\n",
      "Caricate 100 immagini dalla cartella numero 3 (biking)\n",
      "Caricate 229 immagini dalla cartella numero 4 (bird)\n",
      "Caricate 90 immagini dalla cartella numero 5 (blade)\n",
      "Caricate 289 immagini dalla cartella numero 6 (boat)\n",
      "Caricate 208 immagini dalla cartella numero 7 (books)\n",
      "Caricate 312 immagini dalla cartella numero 8 (building)\n",
      "Caricate 160 immagini dalla cartella numero 9 (bunny_ears)\n",
      "Caricate 105 immagini dalla cartella numero 10 (cartwheeling)\n",
      "Caricate 417 immagini dalla cartella numero 11 (clock)\n",
      "Caricate 141 immagini dalla cartella numero 12 (cloud)\n",
      "Caricate 63 immagini dalla cartella numero 13 (disk)\n",
      "Caricate 238 immagini dalla cartella numero 14 (drinks)\n",
      "Caricate 429 immagini dalla cartella numero 15 (emotion_face)\n",
      "Caricate 119 immagini dalla cartella numero 16 (envelope)\n",
      "Caricate 455 immagini dalla cartella numero 17 (family)\n",
      "Caricate 158 immagini dalla cartella numero 18 (fast_train)\n",
      "Caricate 363 immagini dalla cartella numero 19 (feline)\n",
      "Caricate 446 immagini dalla cartella numero 20 (flag)\n",
      "Caricate 197 immagini dalla cartella numero 21 (flower)\n",
      "Caricate 126 immagini dalla cartella numero 22 (footwear)\n",
      "Caricate 98 immagini dalla cartella numero 23 (golfing)\n",
      "Caricate 429 immagini dalla cartella numero 24 (hand)\n",
      "Caricate 108 immagini dalla cartella numero 25 (hat)\n",
      "Caricate 396 immagini dalla cartella numero 26 (heart)\n",
      "Caricate 187 immagini dalla cartella numero 27 (holding_hands)\n",
      "Caricate 356 immagini dalla cartella numero 28 (japanese_ideograph)\n",
      "Caricate 84 immagini dalla cartella numero 29 (kiss)\n",
      "Caricate 92 immagini dalla cartella numero 30 (lock)\n",
      "Caricate 96 immagini dalla cartella numero 31 (mailbox)\n",
      "Caricate 183 immagini dalla cartella numero 32 (marine_animals)\n",
      "Caricate 64 immagini dalla cartella numero 33 (medal)\n",
      "Caricate 136 immagini dalla cartella numero 34 (money)\n",
      "Caricate 134 immagini dalla cartella numero 35 (monkey)\n",
      "Caricate 236 immagini dalla cartella numero 36 (moon)\n",
      "Caricate 78 immagini dalla cartella numero 37 (mountain)\n",
      "Caricate 204 immagini dalla cartella numero 38 (numbers)\n",
      "Caricate 88 immagini dalla cartella numero 39 (phone)\n",
      "Caricate 154 immagini dalla cartella numero 40 (prohibit_sign)\n",
      "Caricate 241 immagini dalla cartella numero 41 (star)\n",
      "Caricate 105 immagini dalla cartella numero 42 (surfing)\n",
      "Caricate 103 immagini dalla cartella numero 43 (tree)\n",
      "Caricate 90 immagini dalla cartella numero 44 (umbrella)\n",
      "Caricate 244 immagini dalla cartella numero 45 (vehicle)\n",
      "Caricate 138 immagini dalla cartella numero 46 (water_polo)\n",
      "Caricate 487 immagini dalla cartella numero 47 (worker)\n",
      "Caricate 61 immagini dalla cartella numero 48 (wrestling)\n",
      "Caricate 103 immagini dalla cartella numero 49 (writing_utensil)\n",
      "Caricamento in  2183.230 secondi\n"
     ]
    }
   ],
   "source": [
    "t0 = time()\n",
    "X_train, X_test, y_train, y_test=load_data(feature_extractor=mobilenet_features, directory=\"Icons-50\", maximages=-1, ext='.png')\n",
    "print(\"Caricamento in  %0.3f secondi\" %(time() - t0))"
   ]
  },
  {
   "cell_type": "code",
   "execution_count": 16,
   "metadata": {},
   "outputs": [],
   "source": [
    "X_train_stack = np.array([])\n",
    "for t in X_train:\n",
    "    X_train_stack = np.concatenate((X_train_stack, t))\n",
    "eps = 0.001\n",
    "X_train_mean = X_train_stack.mean()\n",
    "X_train_std = X_train_stack.std()\n",
    "X_train = [(t - X_train_mean + eps)/(X_train_std + eps) for t in X_train]\n",
    "X_test = [(t - X_train_mean + eps)/(X_train_std + eps) for t in X_test]"
   ]
  },
  {
   "cell_type": "markdown",
   "metadata": {},
   "source": [
    "Per gli stessi motivi esposti precedentemente, si effettua un dump del train e del test set."
   ]
  },
  {
   "cell_type": "code",
   "execution_count": 17,
   "metadata": {},
   "outputs": [
    {
     "data": {
      "text/plain": [
       "['icons_data.joblib']"
      ]
     },
     "execution_count": 17,
     "metadata": {},
     "output_type": "execute_result"
    }
   ],
   "source": [
    "joblib.dump([X_train, X_test, y_train, y_test], 'icons_data.joblib')"
   ]
  },
  {
   "cell_type": "markdown",
   "metadata": {},
   "source": [
    "Viene allenata una SVM."
   ]
  },
  {
   "cell_type": "code",
   "execution_count": 19,
   "metadata": {},
   "outputs": [
    {
     "name": "stderr",
     "output_type": "stream",
     "text": [
      "C:\\Users\\alexc\\Anaconda3\\envs\\dsim\\lib\\site-packages\\sklearn\\model_selection\\_search.py:841: DeprecationWarning: The default of the `iid` parameter will change from True to False in version 0.22 and will be removed in 0.24. This will change numeric results when test-set sizes are unequal.\n",
      "  DeprecationWarning)\n"
     ]
    },
    {
     "name": "stdout",
     "output_type": "stream",
     "text": [
      "Addestramento completato in 18270.966s\n",
      "Migliore combinazione di parametri:\n",
      " C: 50\n",
      " gamma: 0.0001\n"
     ]
    }
   ],
   "source": [
    "param_grid = {'C': [1, 5, 10, 50, 100, 500],\n",
    "          'gamma': [0.00001, 0.0001, 0.001, 0.01, 0.1, 1], }\n",
    "\n",
    "clf = GridSearchCV(SVC(kernel='rbf', class_weight='balanced'), param_grid, cv=5, n_jobs=-1)\n",
    "\n",
    "t2 = time()\n",
    "clf = clf.fit(X_train, y_train)\n",
    "print(\"Addestramento completato in %0.3fs\" % (time() - t2))\n",
    "\n",
    "print(\"Migliore combinazione di parametri:\")\n",
    "print(\" C: \"+str(clf.best_estimator_.C))\n",
    "print(\" gamma: \"+str(clf.best_estimator_.gamma))"
   ]
  },
  {
   "cell_type": "markdown",
   "metadata": {},
   "source": [
    "I parametri ottimali sono C=50 e gamma=0.0001. Il report di classificazione è il seguente."
   ]
  },
  {
   "cell_type": "code",
   "execution_count": 30,
   "metadata": {
    "scrolled": true
   },
   "outputs": [
    {
     "name": "stdout",
     "output_type": "stream",
     "text": [
      "Report di classificazione:\n",
      "              precision    recall  f1-score   support\n",
      "\n",
      "           0       1.00      0.96      0.98        23\n",
      "           1       0.94      0.98      0.96       121\n",
      "           2       0.97      0.92      0.94        61\n",
      "           3       1.00      1.00      1.00        29\n",
      "           4       0.85      0.90      0.88        70\n",
      "           5       1.00      0.83      0.90        23\n",
      "           6       0.95      0.99      0.97        90\n",
      "           7       1.00      0.95      0.97        61\n",
      "           8       0.95      0.95      0.95        81\n",
      "           9       1.00      0.97      0.98        58\n",
      "          10       1.00      1.00      1.00        30\n",
      "          11       0.98      1.00      0.99       131\n",
      "          12       0.96      0.94      0.95        51\n",
      "          13       1.00      0.94      0.97        16\n",
      "          14       0.94      0.94      0.94        71\n",
      "          15       0.97      1.00      0.99       114\n",
      "          16       1.00      0.86      0.92        28\n",
      "          17       1.00      1.00      1.00       133\n",
      "          18       0.93      0.88      0.90        43\n",
      "          19       0.94      0.95      0.94       126\n",
      "          20       0.96      0.95      0.96       132\n",
      "          21       0.97      0.95      0.96        66\n",
      "          22       0.94      0.84      0.89        37\n",
      "          23       0.96      1.00      0.98        27\n",
      "          24       0.95      1.00      0.97       126\n",
      "          25       1.00      0.84      0.92        32\n",
      "          26       0.94      0.98      0.96       121\n",
      "          27       1.00      1.00      1.00        63\n",
      "          28       0.99      1.00      1.00       110\n",
      "          29       0.94      1.00      0.97        29\n",
      "          30       1.00      1.00      1.00        26\n",
      "          31       1.00      1.00      1.00        27\n",
      "          32       0.84      0.79      0.81        52\n",
      "          33       1.00      1.00      1.00        21\n",
      "          34       1.00      0.96      0.98        48\n",
      "          35       0.97      0.90      0.94        41\n",
      "          36       0.96      0.99      0.97        77\n",
      "          37       0.90      1.00      0.95        27\n",
      "          38       0.97      0.97      0.97        68\n",
      "          39       1.00      0.96      0.98        24\n",
      "          40       0.98      1.00      0.99        41\n",
      "          41       0.93      0.96      0.95        74\n",
      "          42       1.00      1.00      1.00        28\n",
      "          43       1.00      1.00      1.00        33\n",
      "          44       0.94      0.83      0.88        18\n",
      "          45       0.99      0.99      0.99        75\n",
      "          46       1.00      1.00      1.00        36\n",
      "          47       1.00      1.00      1.00       132\n",
      "          48       1.00      1.00      1.00        19\n",
      "          49       0.96      0.90      0.93        30\n",
      "\n",
      "   micro avg       0.96      0.96      0.96      3000\n",
      "   macro avg       0.97      0.96      0.96      3000\n",
      "weighted avg       0.97      0.96      0.96      3000\n",
      "\n"
     ]
    }
   ],
   "source": [
    "y_pred = clf.predict(X_test)\n",
    "\n",
    "print(\"Report di classificazione:\")\n",
    "print(classification_report(y_test, y_pred))"
   ]
  },
  {
   "cell_type": "code",
   "execution_count": 31,
   "metadata": {},
   "outputs": [
    {
     "name": "stdout",
     "output_type": "stream",
     "text": [
      "Matrice di confusione:\n"
     ]
    },
    {
     "data": {
      "text/plain": [
       "<matplotlib.image.AxesImage at 0x13c06624c18>"
      ]
     },
     "execution_count": 31,
     "metadata": {},
     "output_type": "execute_result"
    },
    {
     "data": {
      "image/png": "[encoded data removed]",
      "text/plain": [
       "<Figure size 432x288 with 1 Axes>"
      ]
     },
     "metadata": {
      "needs_background": "light"
     },
     "output_type": "display_data"
    }
   ],
   "source": [
    "print(\"Matrice di confusione:\")\n",
    "cm = confusion_matrix(y_test, y_pred)\n",
    "plt.imshow(cm, cmap='Blues')"
   ]
  },
  {
   "cell_type": "code",
   "execution_count": 32,
   "metadata": {},
   "outputs": [
    {
     "name": "stdout",
     "output_type": "stream",
     "text": [
      "Accuracy: 0.965\n"
     ]
    }
   ],
   "source": [
    "print(\"Accuracy: \" + str(accuracy_score(y_test, y_pred)))"
   ]
  },
  {
   "cell_type": "markdown",
   "metadata": {},
   "source": [
    "Si ottiene un F1-score pari a 0.96 e un accuaracy pari a 0.965."
   ]
  }
 ],
 "metadata": {
  "kernelspec": {
   "display_name": "Python 3",
   "language": "python",
   "name": "python3"
  },
  "language_info": {
   "codemirror_mode": {
    "name": "ipython",
    "version": 3
   },
   "file_extension": ".py",
   "mimetype": "text/x-python",
   "name": "python",
   "nbconvert_exporter": "python",
   "pygments_lexer": "ipython3",
   "version": "3.6.7"
  }
 },
 "nbformat": 4,
 "nbformat_minor": 2
}
