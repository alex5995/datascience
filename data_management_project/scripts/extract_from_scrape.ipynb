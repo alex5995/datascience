{
 "cells": [
  {
   "cell_type": "code",
   "execution_count": null,
   "metadata": {
    "collapsed": true
   },
   "outputs": [],
   "source": [
    "import pandas as pd"
   ]
  },
  {
   "cell_type": "code",
   "execution_count": null,
   "metadata": {
    "collapsed": true
   },
   "outputs": [],
   "source": [
    "data = pd.read_csv(\"rai1.csv\", encoding='latin-1')\n",
    "#data = pd.read_csv(\"rai2.csv\", encoding='latin-1')\n",
    "#data = pd.read_csv(\"rai3.csv\", encoding='latin-1')\n",
    "\n",
    "def numero(codice):\n",
    "    return(int(codice.split(\"-\")[1]))\n",
    "\n",
    "data[\"web-scraper-order\"] = data[\"web-scraper-order\"].apply(numero)\n",
    "data = data.sort_values(\"web-scraper-order\")"
   ]
  },
  {
   "cell_type": "code",
   "execution_count": null,
   "metadata": {
    "collapsed": true
   },
   "outputs": [],
   "source": [
    "mylist=[]\n",
    "day = 3 #impostare il giorno prima del primo giorno\n",
    "h0 = False\n",
    "for riga in data.iterrows(): \n",
    "    if h0 == False:\n",
    "        if riga[1][3][0]==\"0\":\n",
    "            h0 = True\n",
    "            day+=1\n",
    "    else:\n",
    "        if riga[1][3][0]!=\"0\":\n",
    "            h0 = False\n",
    "    if day<10:\n",
    "        date = \"2018-04-0\" + str(day) + \" \" + riga[1][3] + \":00\" #impostare mese e anno\n",
    "    if day>30:\n",
    "        date = \"2018-05-0\" + str(day-30) + \" \" + riga[1][3] + \":00\" #impostare mese e anno\n",
    "    else:\n",
    "        date = \"2018-04-\" + str(day) + \" \" + riga[1][3] + \":00\" #impostare mese e anno\n",
    "    mylist.append(date)            "
   ]
  },
  {
   "cell_type": "code",
   "execution_count": null,
   "metadata": {
    "collapsed": true
   },
   "outputs": [],
   "source": [
    "data[\"inizio\"] = mylist\n",
    "mylist.append(\"\")\n",
    "data[\"fine\"] = mylist[1:]"
   ]
  },
  {
   "cell_type": "code",
   "execution_count": null,
   "metadata": {
    "collapsed": true
   },
   "outputs": [],
   "source": [
    "data = data[data.fine!=\"\"]\n",
    "data = data[data.inizio!=data.fine]"
   ]
  },
  {
   "cell_type": "code",
   "execution_count": null,
   "metadata": {
    "collapsed": true
   },
   "outputs": [],
   "source": [
    "data = data[[\"text\",\"inizio\",\"fine\"]]"
   ]
  },
  {
   "cell_type": "code",
   "execution_count": null,
   "metadata": {
    "collapsed": true
   },
   "outputs": [],
   "source": [
    "eventi = pd.unique(data.text)\n",
    "data[\"keywords\"]=\"\""
   ]
  },
  {
   "cell_type": "code",
   "execution_count": null,
   "metadata": {},
   "outputs": [],
   "source": [
    "ancora = False\n",
    "for ev in eventi:\n",
    "    tenere = \"\"\n",
    "    while tenere not in [\"y\",\"n\",\"stop\"]:\n",
    "        tenere = input(\"vuoi tenere l'evento \" + ev + \"? (y/n/stop)\")\n",
    "        if tenere not in [\"y\",\"n\",\"stop\"]:\n",
    "            print(\"inserire y, n oppure stop\")\n",
    "    if tenere == \"y\":\n",
    "        ancora = True\n",
    "        keys = []\n",
    "        while ancora == True:\n",
    "            keyword = input(\"inserire una keyword (per stoppare lasciare vuoto)\")\n",
    "            if keyword == \"\":\n",
    "                ancora = False\n",
    "            else:\n",
    "                keys.append(keyword)\n",
    "        data.keywords[data.text==ev] = str(keys)\n",
    "    if tenere == \"stop\":\n",
    "        break"
   ]
  },
  {
   "cell_type": "code",
   "execution_count": null,
   "metadata": {},
   "outputs": [],
   "source": [
    "programmi = data[data.keywords!=\"\"]"
   ]
  },
  {
   "cell_type": "code",
   "execution_count": null,
   "metadata": {
    "collapsed": true
   },
   "outputs": [],
   "source": [
    "programmi.to_csv(\"rai1_ok.csv\", index=False, sep=\";\", header=False)"
   ]
  }
 ],
 "metadata": {
  "kernelspec": {
   "display_name": "Python 3",
   "language": "python",
   "name": "python3"
  },
  "language_info": {
   "codemirror_mode": {
    "name": "ipython",
    "version": 3
   },
   "file_extension": ".py",
   "mimetype": "text/x-python",
   "name": "python",
   "nbconvert_exporter": "python",
   "pygments_lexer": "ipython3",
   "version": "3.6.3"
  }
 },
 "nbformat": 4,
 "nbformat_minor": 2
}
