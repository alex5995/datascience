{
 "cells": [
  {
   "cell_type": "markdown",
   "metadata": {},
   "source": [
    "### PROGETTO FOUNDATION OF COMPUTER SCIENCE"
   ]
  },
  {
   "cell_type": "markdown",
   "metadata": {},
   "source": [
    "#### Alex Ceccotti & Pietro De Simoni"
   ]
  },
  {
   "cell_type": "code",
   "execution_count": 1,
   "metadata": {
    "collapsed": true
   },
   "outputs": [],
   "source": [
    "import pandas as pd\n",
    "import numpy as np\n",
    "import ast\n",
    "import re\n",
    "credits = pd.read_csv(\"C:/Users/alexc/Documents/python_lab/movies/tmdb_5000_credits.csv\")\n",
    "credits.cast = credits.cast.apply(ast.literal_eval)\n",
    "credits.crew = credits.crew.apply(ast.literal_eval)\n",
    "movies = pd.read_csv(\"C:/Users/alexc/Documents/python_lab/movies/tmdb_5000_movies.csv\")\n",
    "movies.genres = movies.genres.apply(ast.literal_eval)\n",
    "movies.keywords = movies.keywords.apply(ast.literal_eval)\n",
    "movies.production_companies = movies.production_companies.apply(ast.literal_eval)\n",
    "movies.production_countries = movies.production_countries.apply(ast.literal_eval)\n",
    "movies.spoken_languages = movies.spoken_languages.apply(ast.literal_eval)"
   ]
  },
  {
   "cell_type": "markdown",
   "metadata": {},
   "source": [
    "1) For each movie, compute the number of cast members."
   ]
  },
  {
   "cell_type": "code",
   "execution_count": 2,
   "metadata": {
    "collapsed": true
   },
   "outputs": [],
   "source": [
    "def cast_members(movie):    \n",
    "    return len(movie.cast)"
   ]
  },
  {
   "cell_type": "code",
   "execution_count": 3,
   "metadata": {},
   "outputs": [
    {
     "data": {
      "text/html": [
       "<div>\n",
       "<style>\n",
       "    .dataframe thead tr:only-child th {\n",
       "        text-align: right;\n",
       "    }\n",
       "\n",
       "    .dataframe thead th {\n",
       "        text-align: left;\n",
       "    }\n",
       "\n",
       "    .dataframe tbody tr th {\n",
       "        vertical-align: top;\n",
       "    }\n",
       "</style>\n",
       "<table border=\"1\" class=\"dataframe\">\n",
       "  <thead>\n",
       "    <tr style=\"text-align: right;\">\n",
       "      <th></th>\n",
       "      <th>title</th>\n",
       "      <th>num_cast</th>\n",
       "    </tr>\n",
       "  </thead>\n",
       "  <tbody>\n",
       "    <tr>\n",
       "      <th>0</th>\n",
       "      <td>Avatar</td>\n",
       "      <td>83</td>\n",
       "    </tr>\n",
       "    <tr>\n",
       "      <th>1</th>\n",
       "      <td>Pirates of the Caribbean: At World's End</td>\n",
       "      <td>34</td>\n",
       "    </tr>\n",
       "    <tr>\n",
       "      <th>2</th>\n",
       "      <td>Spectre</td>\n",
       "      <td>83</td>\n",
       "    </tr>\n",
       "    <tr>\n",
       "      <th>3</th>\n",
       "      <td>The Dark Knight Rises</td>\n",
       "      <td>158</td>\n",
       "    </tr>\n",
       "    <tr>\n",
       "      <th>4</th>\n",
       "      <td>John Carter</td>\n",
       "      <td>27</td>\n",
       "    </tr>\n",
       "  </tbody>\n",
       "</table>\n",
       "</div>"
      ],
      "text/plain": [
       "                                      title  num_cast\n",
       "0                                    Avatar        83\n",
       "1  Pirates of the Caribbean: At World's End        34\n",
       "2                                   Spectre        83\n",
       "3                     The Dark Knight Rises       158\n",
       "4                               John Carter        27"
      ]
     },
     "execution_count": 3,
     "metadata": {},
     "output_type": "execute_result"
    }
   ],
   "source": [
    "credits[\"num_cast\"] = credits.apply(cast_members, axis=1)\n",
    "credits[[\"title\",\"num_cast\"]].head()"
   ]
  },
  {
   "cell_type": "markdown",
   "metadata": {},
   "source": [
    "2) How many movies do not have a homepage?"
   ]
  },
  {
   "cell_type": "code",
   "execution_count": 4,
   "metadata": {},
   "outputs": [
    {
     "data": {
      "text/plain": [
       "3091"
      ]
     },
     "execution_count": 4,
     "metadata": {},
     "output_type": "execute_result"
    }
   ],
   "source": [
    "movies.homepage.isnull().sum()"
   ]
  },
  {
   "cell_type": "markdown",
   "metadata": {},
   "source": [
    "3) For each year, how many movies do not have a homepage?"
   ]
  },
  {
   "cell_type": "code",
   "execution_count": 5,
   "metadata": {
    "collapsed": true
   },
   "outputs": [],
   "source": [
    "movies2 = movies[(movies.release_date.notnull())&(movies.homepage.isnull())]\n",
    "movies2 = movies2.reset_index()\n",
    "del movies2['index']"
   ]
  },
  {
   "cell_type": "code",
   "execution_count": 6,
   "metadata": {
    "collapsed": true
   },
   "outputs": [],
   "source": [
    "def estrai_anno(data):\n",
    "    assert re.search('\\d\\d\\d\\d\\-\\d\\d\\-\\d\\d', data)\n",
    "    return(data[0:4]) "
   ]
  },
  {
   "cell_type": "code",
   "execution_count": 7,
   "metadata": {},
   "outputs": [
    {
     "data": {
      "text/plain": [
       "year\n",
       "1916    1\n",
       "1925    1\n",
       "1927    1\n",
       "1929    2\n",
       "1930    1\n",
       "dtype: int64"
      ]
     },
     "execution_count": 7,
     "metadata": {},
     "output_type": "execute_result"
    }
   ],
   "source": [
    "movies2['year'] = movies2.release_date.apply(estrai_anno)\n",
    "movies2.groupby('year').size().head()"
   ]
  },
  {
   "cell_type": "markdown",
   "metadata": {},
   "source": [
    "4) Extract the domain of each homepage."
   ]
  },
  {
   "cell_type": "code",
   "execution_count": 8,
   "metadata": {
    "collapsed": true
   },
   "outputs": [],
   "source": [
    "movies3 = movies[movies.homepage.notnull()]\n",
    "movies3 = movies3.reset_index()\n",
    "del movies3['index']"
   ]
  },
  {
   "cell_type": "code",
   "execution_count": 9,
   "metadata": {
    "collapsed": true
   },
   "outputs": [],
   "source": [
    "def estrai_dominio(url):\n",
    "    assert re.search('^https*://', url)\n",
    "    website = re.split('[/ ]+', url)[1]\n",
    "    assert re.search('\\.[a-z]+/*$', website)\n",
    "    return(re.search('\\.[a-z]+/*$', website).group(0))"
   ]
  },
  {
   "cell_type": "code",
   "execution_count": 10,
   "metadata": {},
   "outputs": [
    {
     "data": {
      "text/html": [
       "<div>\n",
       "<style>\n",
       "    .dataframe thead tr:only-child th {\n",
       "        text-align: right;\n",
       "    }\n",
       "\n",
       "    .dataframe thead th {\n",
       "        text-align: left;\n",
       "    }\n",
       "\n",
       "    .dataframe tbody tr th {\n",
       "        vertical-align: top;\n",
       "    }\n",
       "</style>\n",
       "<table border=\"1\" class=\"dataframe\">\n",
       "  <thead>\n",
       "    <tr style=\"text-align: right;\">\n",
       "      <th></th>\n",
       "      <th>title</th>\n",
       "      <th>homepage</th>\n",
       "      <th>dominio</th>\n",
       "    </tr>\n",
       "  </thead>\n",
       "  <tbody>\n",
       "    <tr>\n",
       "      <th>0</th>\n",
       "      <td>Avatar</td>\n",
       "      <td>http://www.avatarmovie.com/</td>\n",
       "      <td>.com</td>\n",
       "    </tr>\n",
       "    <tr>\n",
       "      <th>1</th>\n",
       "      <td>Pirates of the Caribbean: At World's End</td>\n",
       "      <td>http://disney.go.com/disneypictures/pirates/</td>\n",
       "      <td>.com</td>\n",
       "    </tr>\n",
       "    <tr>\n",
       "      <th>2</th>\n",
       "      <td>Spectre</td>\n",
       "      <td>http://www.sonypictures.com/movies/spectre/</td>\n",
       "      <td>.com</td>\n",
       "    </tr>\n",
       "    <tr>\n",
       "      <th>3</th>\n",
       "      <td>The Dark Knight Rises</td>\n",
       "      <td>http://www.thedarkknightrises.com/</td>\n",
       "      <td>.com</td>\n",
       "    </tr>\n",
       "    <tr>\n",
       "      <th>4</th>\n",
       "      <td>John Carter</td>\n",
       "      <td>http://movies.disney.com/john-carter</td>\n",
       "      <td>.com</td>\n",
       "    </tr>\n",
       "  </tbody>\n",
       "</table>\n",
       "</div>"
      ],
      "text/plain": [
       "                                      title  \\\n",
       "0                                    Avatar   \n",
       "1  Pirates of the Caribbean: At World's End   \n",
       "2                                   Spectre   \n",
       "3                     The Dark Knight Rises   \n",
       "4                               John Carter   \n",
       "\n",
       "                                       homepage dominio  \n",
       "0                   http://www.avatarmovie.com/    .com  \n",
       "1  http://disney.go.com/disneypictures/pirates/    .com  \n",
       "2   http://www.sonypictures.com/movies/spectre/    .com  \n",
       "3            http://www.thedarkknightrises.com/    .com  \n",
       "4          http://movies.disney.com/john-carter    .com  "
      ]
     },
     "execution_count": 10,
     "metadata": {},
     "output_type": "execute_result"
    }
   ],
   "source": [
    "movies3['dominio'] = movies3.homepage.apply(estrai_dominio)\n",
    "#movies3.groupby('dominio').size().head()\n",
    "movies3[[\"title\", \"homepage\", \"dominio\"]].head()"
   ]
  },
  {
   "cell_type": "code",
   "execution_count": 11,
   "metadata": {},
   "outputs": [
    {
     "data": {
      "text/html": [
       "<div>\n",
       "<style>\n",
       "    .dataframe thead tr:only-child th {\n",
       "        text-align: right;\n",
       "    }\n",
       "\n",
       "    .dataframe thead th {\n",
       "        text-align: left;\n",
       "    }\n",
       "\n",
       "    .dataframe tbody tr th {\n",
       "        vertical-align: top;\n",
       "    }\n",
       "</style>\n",
       "<table border=\"1\" class=\"dataframe\">\n",
       "  <thead>\n",
       "    <tr style=\"text-align: right;\">\n",
       "      <th></th>\n",
       "      <th>budget</th>\n",
       "      <th>genres</th>\n",
       "      <th>homepage</th>\n",
       "      <th>id</th>\n",
       "      <th>keywords</th>\n",
       "      <th>original_language</th>\n",
       "      <th>original_title</th>\n",
       "      <th>overview</th>\n",
       "      <th>popularity</th>\n",
       "      <th>production_companies</th>\n",
       "      <th>...</th>\n",
       "      <th>release_date</th>\n",
       "      <th>revenue</th>\n",
       "      <th>runtime</th>\n",
       "      <th>spoken_languages</th>\n",
       "      <th>status</th>\n",
       "      <th>tagline</th>\n",
       "      <th>title</th>\n",
       "      <th>vote_average</th>\n",
       "      <th>vote_count</th>\n",
       "      <th>dominio</th>\n",
       "    </tr>\n",
       "  </thead>\n",
       "  <tbody>\n",
       "    <tr>\n",
       "      <th>1403</th>\n",
       "      <td>0</td>\n",
       "      <td>[{'id': 53, 'name': 'Thriller'}, {'id': 9648, ...</td>\n",
       "      <td>http://www.cargoderfilm.ch http://cargothemovi...</td>\n",
       "      <td>34069</td>\n",
       "      <td>[{'id': 3388, 'name': 'space colony'}, {'id': ...</td>\n",
       "      <td>de</td>\n",
       "      <td>Cargo</td>\n",
       "      <td>The story of CARGO takes place on rusty space-...</td>\n",
       "      <td>10.142218</td>\n",
       "      <td>[{'name': 'Telepool', 'id': 823}, {'name': 'At...</td>\n",
       "      <td>...</td>\n",
       "      <td>2009-09-24</td>\n",
       "      <td>0</td>\n",
       "      <td>120.0</td>\n",
       "      <td>[{'iso_639_1': 'fr', 'name': 'Français'}, {'is...</td>\n",
       "      <td>Released</td>\n",
       "      <td>NaN</td>\n",
       "      <td>Cargo</td>\n",
       "      <td>5.9</td>\n",
       "      <td>140</td>\n",
       "      <td>.ch</td>\n",
       "    </tr>\n",
       "  </tbody>\n",
       "</table>\n",
       "<p>1 rows × 21 columns</p>\n",
       "</div>"
      ],
      "text/plain": [
       "      budget                                             genres  \\\n",
       "1403       0  [{'id': 53, 'name': 'Thriller'}, {'id': 9648, ...   \n",
       "\n",
       "                                               homepage     id  \\\n",
       "1403  http://www.cargoderfilm.ch http://cargothemovi...  34069   \n",
       "\n",
       "                                               keywords original_language  \\\n",
       "1403  [{'id': 3388, 'name': 'space colony'}, {'id': ...                de   \n",
       "\n",
       "     original_title                                           overview  \\\n",
       "1403          Cargo  The story of CARGO takes place on rusty space-...   \n",
       "\n",
       "      popularity                               production_companies   ...     \\\n",
       "1403   10.142218  [{'name': 'Telepool', 'id': 823}, {'name': 'At...   ...      \n",
       "\n",
       "     release_date revenue  runtime  \\\n",
       "1403   2009-09-24       0    120.0   \n",
       "\n",
       "                                       spoken_languages    status tagline  \\\n",
       "1403  [{'iso_639_1': 'fr', 'name': 'Français'}, {'is...  Released     NaN   \n",
       "\n",
       "      title vote_average  vote_count  dominio  \n",
       "1403  Cargo          5.9         140      .ch  \n",
       "\n",
       "[1 rows x 21 columns]"
      ]
     },
     "execution_count": 11,
     "metadata": {},
     "output_type": "execute_result"
    }
   ],
   "source": [
    "def multi_homepage(url):\n",
    "    urls = re.split(' ', url)\n",
    "    if len(urls) == 1:\n",
    "        return(False)\n",
    "    else:\n",
    "        return(True)\n",
    "multi = movies3.homepage.apply(multi_homepage)\n",
    "movies3[multi]"
   ]
  },
  {
   "cell_type": "markdown",
   "metadata": {},
   "source": [
    "5) Extract a set of normalized tables. That is, each entry of a normalized table must contain exactly one value (not a list or a dictionary)."
   ]
  },
  {
   "cell_type": "code",
   "execution_count": 12,
   "metadata": {
    "collapsed": true
   },
   "outputs": [],
   "source": [
    "from pandas.io.json import json_normalize\n",
    "\n",
    "def normalize_movies(colonna):\n",
    "    a = colonna.apply(json_normalize)\n",
    "    i = 0\n",
    "    for el in movies.id:\n",
    "        a[i][\"movie_id\"] = el\n",
    "        i+=1\n",
    "    return(pd.concat(a.values).reset_index().drop(\"index\", axis=1))\n",
    "\n",
    "def normalize_credits(colonna):\n",
    "    a = colonna.apply(json_normalize)\n",
    "    i = 0\n",
    "    for el in credits.movie_id:\n",
    "        a[i][\"movie_id\"] = el\n",
    "        i+=1\n",
    "    return(pd.concat(a.values).reset_index().drop(\"index\", axis=1))"
   ]
  },
  {
   "cell_type": "code",
   "execution_count": 13,
   "metadata": {
    "collapsed": true
   },
   "outputs": [],
   "source": [
    "movies_keywords = normalize_movies(movies.keywords)\n",
    "keywords = movies_keywords[[\"id\", \"name\"]].drop_duplicates().set_index(\"id\")\n",
    "movies_keywords = movies_keywords[[\"id\",\"movie_id\"]]\n",
    "movies_keywords.columns = [\"keyword_id\", \"movie_id\"]"
   ]
  },
  {
   "cell_type": "code",
   "execution_count": 14,
   "metadata": {
    "collapsed": true
   },
   "outputs": [],
   "source": [
    "movies_genres = normalize_movies(movies.genres)\n",
    "genres = movies_genres[[\"id\", \"name\"]].drop_duplicates().set_index(\"id\")\n",
    "movies_genres = movies_genres[[\"id\",\"movie_id\"]]\n",
    "movies_genres.columns = [\"genre_id\", \"movie_id\"]"
   ]
  },
  {
   "cell_type": "code",
   "execution_count": 15,
   "metadata": {
    "collapsed": true
   },
   "outputs": [],
   "source": [
    "movies_production_companies = normalize_movies(movies.production_companies)\n",
    "production_companies = movies_production_companies[[\"id\", \"name\"]].drop_duplicates().set_index(\"id\")\n",
    "movies_production_companies = movies_production_companies[[\"id\",\"movie_id\"]]\n",
    "movies_production_companies.columns = [\"production_company_id\", \"movie_id\"]"
   ]
  },
  {
   "cell_type": "code",
   "execution_count": 16,
   "metadata": {
    "collapsed": true
   },
   "outputs": [],
   "source": [
    "movies_production_countries = normalize_movies(movies.production_countries)\n",
    "movies_production_countries.columns = [\"id\", \"movie_id\", \"name\"]\n",
    "production_countries = movies_production_countries[[\"id\", \"name\"]].drop_duplicates().set_index(\"id\")\n",
    "movies_production_countries = movies_production_countries[[\"id\",\"movie_id\"]]\n",
    "movies_production_countries.columns = [\"production_country_id\", \"movie_id\"]"
   ]
  },
  {
   "cell_type": "code",
   "execution_count": 17,
   "metadata": {
    "collapsed": true
   },
   "outputs": [],
   "source": [
    "movies_spoken_languages = normalize_movies(movies.spoken_languages)\n",
    "movies_spoken_languages.columns = [\"id\", \"movie_id\", \"name\"]\n",
    "spoken_languages = movies_spoken_languages[[\"id\", \"name\"]].drop_duplicates().set_index(\"id\")\n",
    "movies_spoken_languages = movies_spoken_languages[[\"id\",\"movie_id\"]]\n",
    "movies_spoken_languages.columns = [\"spoken_language_id\", \"movie_id\"]"
   ]
  },
  {
   "cell_type": "code",
   "execution_count": 18,
   "metadata": {
    "collapsed": true
   },
   "outputs": [],
   "source": [
    "cast_norm = normalize_credits(credits.cast)\n",
    "credits_cast = cast_norm[[\"character\",\"credit_id\",\"id\",\"movie_id\",\"order\"]].set_index(\"credit_id\")\n",
    "credits_cast.columns = [\"character\",\"person_id\",\"movie_id\",\"order\"]\n",
    "people = cast_norm[[\"id\",\"name\",\"gender\"]]"
   ]
  },
  {
   "cell_type": "code",
   "execution_count": 19,
   "metadata": {
    "collapsed": true
   },
   "outputs": [],
   "source": [
    "crew_norm = normalize_credits(credits.crew)\n",
    "credits_crew = crew_norm[[\"department\",\"credit_id\",\"id\",\"movie_id\",\"job\"]].set_index(\"credit_id\")\n",
    "credits_crew.columns = [\"department\",\"person_id\",\"movie_id\",\"job\"]\n",
    "people2 = crew_norm[[\"id\",\"name\",\"gender\"]]\n",
    "people = pd.concat([people,people2]).drop_duplicates().set_index(\"id\")"
   ]
  },
  {
   "cell_type": "code",
   "execution_count": 20,
   "metadata": {
    "collapsed": true
   },
   "outputs": [],
   "source": [
    "movies_norm = movies[[\"budget\", \"homepage\", \"id\", \"original_language\", \"original_title\", \"overview\", \"popularity\", \"release_date\", \"revenue\", \"runtime\", \"status\", \"tagline\", \"title\", \"vote_average\", \"vote_count\"]].set_index(\"id\")"
   ]
  },
  {
   "cell_type": "markdown",
   "metadata": {},
   "source": [
    "6) For each movie, compute the gross margin (difference between revenue and budget)."
   ]
  },
  {
   "cell_type": "code",
   "execution_count": 21,
   "metadata": {
    "collapsed": true
   },
   "outputs": [],
   "source": [
    "def compute_margin(film):\n",
    "    assert (film.budget != None)|(film.revenue != None)\n",
    "    return (film.revenue - film.budget)"
   ]
  },
  {
   "cell_type": "code",
   "execution_count": 22,
   "metadata": {},
   "outputs": [
    {
     "data": {
      "text/html": [
       "<div>\n",
       "<style>\n",
       "    .dataframe thead tr:only-child th {\n",
       "        text-align: right;\n",
       "    }\n",
       "\n",
       "    .dataframe thead th {\n",
       "        text-align: left;\n",
       "    }\n",
       "\n",
       "    .dataframe tbody tr th {\n",
       "        vertical-align: top;\n",
       "    }\n",
       "</style>\n",
       "<table border=\"1\" class=\"dataframe\">\n",
       "  <thead>\n",
       "    <tr style=\"text-align: right;\">\n",
       "      <th></th>\n",
       "      <th>title</th>\n",
       "      <th>revenue</th>\n",
       "      <th>budget</th>\n",
       "      <th>gross_margin</th>\n",
       "    </tr>\n",
       "  </thead>\n",
       "  <tbody>\n",
       "    <tr>\n",
       "      <th>0</th>\n",
       "      <td>Avatar</td>\n",
       "      <td>2787965087</td>\n",
       "      <td>237000000</td>\n",
       "      <td>2550965087</td>\n",
       "    </tr>\n",
       "    <tr>\n",
       "      <th>1</th>\n",
       "      <td>Pirates of the Caribbean: At World's End</td>\n",
       "      <td>961000000</td>\n",
       "      <td>300000000</td>\n",
       "      <td>661000000</td>\n",
       "    </tr>\n",
       "    <tr>\n",
       "      <th>2</th>\n",
       "      <td>Spectre</td>\n",
       "      <td>880674609</td>\n",
       "      <td>245000000</td>\n",
       "      <td>635674609</td>\n",
       "    </tr>\n",
       "    <tr>\n",
       "      <th>3</th>\n",
       "      <td>The Dark Knight Rises</td>\n",
       "      <td>1084939099</td>\n",
       "      <td>250000000</td>\n",
       "      <td>834939099</td>\n",
       "    </tr>\n",
       "    <tr>\n",
       "      <th>4</th>\n",
       "      <td>John Carter</td>\n",
       "      <td>284139100</td>\n",
       "      <td>260000000</td>\n",
       "      <td>24139100</td>\n",
       "    </tr>\n",
       "  </tbody>\n",
       "</table>\n",
       "</div>"
      ],
      "text/plain": [
       "                                      title     revenue     budget  \\\n",
       "0                                    Avatar  2787965087  237000000   \n",
       "1  Pirates of the Caribbean: At World's End   961000000  300000000   \n",
       "2                                   Spectre   880674609  245000000   \n",
       "3                     The Dark Knight Rises  1084939099  250000000   \n",
       "4                               John Carter   284139100  260000000   \n",
       "\n",
       "   gross_margin  \n",
       "0    2550965087  \n",
       "1     661000000  \n",
       "2     635674609  \n",
       "3     834939099  \n",
       "4      24139100  "
      ]
     },
     "execution_count": 22,
     "metadata": {},
     "output_type": "execute_result"
    }
   ],
   "source": [
    "movies['gross_margin'] = movies.apply(compute_margin, axis=1)\n",
    "movies[['title', 'revenue', 'budget', 'gross_margin']].head()"
   ]
  },
  {
   "cell_type": "markdown",
   "metadata": {},
   "source": [
    "7) For each movie, compute the number of crew members."
   ]
  },
  {
   "cell_type": "code",
   "execution_count": 23,
   "metadata": {},
   "outputs": [
    {
     "data": {
      "text/html": [
       "<div>\n",
       "<style>\n",
       "    .dataframe thead tr:only-child th {\n",
       "        text-align: right;\n",
       "    }\n",
       "\n",
       "    .dataframe thead th {\n",
       "        text-align: left;\n",
       "    }\n",
       "\n",
       "    .dataframe tbody tr th {\n",
       "        vertical-align: top;\n",
       "    }\n",
       "</style>\n",
       "<table border=\"1\" class=\"dataframe\">\n",
       "  <thead>\n",
       "    <tr style=\"text-align: right;\">\n",
       "      <th></th>\n",
       "      <th>title</th>\n",
       "      <th>crew_count</th>\n",
       "    </tr>\n",
       "  </thead>\n",
       "  <tbody>\n",
       "    <tr>\n",
       "      <th>0</th>\n",
       "      <td>Four Rooms</td>\n",
       "      <td>78</td>\n",
       "    </tr>\n",
       "    <tr>\n",
       "      <th>1</th>\n",
       "      <td>Star Wars</td>\n",
       "      <td>18</td>\n",
       "    </tr>\n",
       "    <tr>\n",
       "      <th>2</th>\n",
       "      <td>Finding Nemo</td>\n",
       "      <td>99</td>\n",
       "    </tr>\n",
       "    <tr>\n",
       "      <th>3</th>\n",
       "      <td>Forrest Gump</td>\n",
       "      <td>92</td>\n",
       "    </tr>\n",
       "    <tr>\n",
       "      <th>4</th>\n",
       "      <td>American Beauty</td>\n",
       "      <td>107</td>\n",
       "    </tr>\n",
       "  </tbody>\n",
       "</table>\n",
       "</div>"
      ],
      "text/plain": [
       "             title  crew_count\n",
       "0       Four Rooms          78\n",
       "1        Star Wars          18\n",
       "2     Finding Nemo          99\n",
       "3     Forrest Gump          92\n",
       "4  American Beauty         107"
      ]
     },
     "execution_count": 23,
     "metadata": {},
     "output_type": "execute_result"
    }
   ],
   "source": [
    "crew2 = credits_crew[[\"person_id\", \"movie_id\"]].drop_duplicates()\n",
    "crew_count = pd.DataFrame(crew2.groupby(\"movie_id\").size()).reset_index()\n",
    "crew_count.columns = [\"movie_id\", \"crew_count\"]\n",
    "crew_count = pd.merge(crew_count, movies, left_on=\"movie_id\", right_on=\"id\")\n",
    "crew_count[[\"title\", \"crew_count\"]].head()"
   ]
  },
  {
   "cell_type": "markdown",
   "metadata": {},
   "source": [
    "8) For each movie, compute the number of directors."
   ]
  },
  {
   "cell_type": "code",
   "execution_count": 24,
   "metadata": {},
   "outputs": [
    {
     "data": {
      "text/html": [
       "<div>\n",
       "<style>\n",
       "    .dataframe thead tr:only-child th {\n",
       "        text-align: right;\n",
       "    }\n",
       "\n",
       "    .dataframe thead th {\n",
       "        text-align: left;\n",
       "    }\n",
       "\n",
       "    .dataframe tbody tr th {\n",
       "        vertical-align: top;\n",
       "    }\n",
       "</style>\n",
       "<table border=\"1\" class=\"dataframe\">\n",
       "  <thead>\n",
       "    <tr style=\"text-align: right;\">\n",
       "      <th></th>\n",
       "      <th>title</th>\n",
       "      <th>directors_count</th>\n",
       "    </tr>\n",
       "  </thead>\n",
       "  <tbody>\n",
       "    <tr>\n",
       "      <th>701</th>\n",
       "      <td>Paris, je t'aime</td>\n",
       "      <td>21</td>\n",
       "    </tr>\n",
       "    <tr>\n",
       "      <th>3918</th>\n",
       "      <td>Movie 43</td>\n",
       "      <td>12</td>\n",
       "    </tr>\n",
       "    <tr>\n",
       "      <th>336</th>\n",
       "      <td>Fantasia</td>\n",
       "      <td>12</td>\n",
       "    </tr>\n",
       "    <tr>\n",
       "      <th>3477</th>\n",
       "      <td>Fantasia 2000</td>\n",
       "      <td>8</td>\n",
       "    </tr>\n",
       "    <tr>\n",
       "      <th>798</th>\n",
       "      <td>Bambi</td>\n",
       "      <td>7</td>\n",
       "    </tr>\n",
       "  </tbody>\n",
       "</table>\n",
       "</div>"
      ],
      "text/plain": [
       "                 title  directors_count\n",
       "701   Paris, je t'aime               21\n",
       "3918          Movie 43               12\n",
       "336           Fantasia               12\n",
       "3477     Fantasia 2000                8\n",
       "798              Bambi                7"
      ]
     },
     "execution_count": 24,
     "metadata": {},
     "output_type": "execute_result"
    }
   ],
   "source": [
    "crew3 = credits_crew[credits_crew.job == \"Director\"]\n",
    "directors_count = crew3.groupby(\"movie_id\").size().reset_index()\n",
    "directors_count.columns = [\"movie_id\", \"directors_count\"]\n",
    "directors_count = pd.merge(directors_count, movies, left_on=\"movie_id\", right_on=\"id\")\n",
    "directors_count[[\"title\", \"directors_count\"]].sort_values(\"directors_count\", ascending=0).head()"
   ]
  },
  {
   "cell_type": "markdown",
   "metadata": {},
   "source": [
    "9) For each language, compute the number of movies where such language is spoken."
   ]
  },
  {
   "cell_type": "code",
   "execution_count": 25,
   "metadata": {},
   "outputs": [
    {
     "data": {
      "text/html": [
       "<div>\n",
       "<style>\n",
       "    .dataframe thead tr:only-child th {\n",
       "        text-align: right;\n",
       "    }\n",
       "\n",
       "    .dataframe thead th {\n",
       "        text-align: left;\n",
       "    }\n",
       "\n",
       "    .dataframe tbody tr th {\n",
       "        vertical-align: top;\n",
       "    }\n",
       "</style>\n",
       "<table border=\"1\" class=\"dataframe\">\n",
       "  <thead>\n",
       "    <tr style=\"text-align: right;\">\n",
       "      <th></th>\n",
       "      <th>languages_id</th>\n",
       "      <th>name</th>\n",
       "      <th>movies_count</th>\n",
       "    </tr>\n",
       "  </thead>\n",
       "  <tbody>\n",
       "    <tr>\n",
       "      <th>19</th>\n",
       "      <td>en</td>\n",
       "      <td>English</td>\n",
       "      <td>4485</td>\n",
       "    </tr>\n",
       "    <tr>\n",
       "      <th>25</th>\n",
       "      <td>fr</td>\n",
       "      <td>Français</td>\n",
       "      <td>437</td>\n",
       "    </tr>\n",
       "    <tr>\n",
       "      <th>21</th>\n",
       "      <td>es</td>\n",
       "      <td>Español</td>\n",
       "      <td>351</td>\n",
       "    </tr>\n",
       "    <tr>\n",
       "      <th>16</th>\n",
       "      <td>de</td>\n",
       "      <td>Deutsch</td>\n",
       "      <td>262</td>\n",
       "    </tr>\n",
       "    <tr>\n",
       "      <th>36</th>\n",
       "      <td>it</td>\n",
       "      <td>Italiano</td>\n",
       "      <td>188</td>\n",
       "    </tr>\n",
       "  </tbody>\n",
       "</table>\n",
       "</div>"
      ],
      "text/plain": [
       "   languages_id      name  movies_count\n",
       "19           en   English          4485\n",
       "25           fr  Français           437\n",
       "21           es   Español           351\n",
       "16           de   Deutsch           262\n",
       "36           it  Italiano           188"
      ]
     },
     "execution_count": 25,
     "metadata": {},
     "output_type": "execute_result"
    }
   ],
   "source": [
    "languages_count = movies_spoken_languages.groupby(\"spoken_language_id\").size().reset_index()\n",
    "languages_count.columns = [\"languages_id\", \"movies_count\"]\n",
    "languages_count = pd.merge(languages_count, spoken_languages.reset_index(), left_on=\"languages_id\", right_on=\"id\")\n",
    "languages_count[[\"languages_id\", \"name\", \"movies_count\"]].sort_values(\"movies_count\", ascending=0).head()"
   ]
  },
  {
   "cell_type": "markdown",
   "metadata": {},
   "source": [
    "10) For each company and each decade, compute the overall revenue."
   ]
  },
  {
   "cell_type": "code",
   "execution_count": 26,
   "metadata": {
    "collapsed": true
   },
   "outputs": [],
   "source": [
    "movies4 = movies[(movies.release_date.notnull())]\n",
    "movies4 = movies4.reset_index()\n",
    "del movies4['index']"
   ]
  },
  {
   "cell_type": "code",
   "execution_count": 27,
   "metadata": {
    "collapsed": true
   },
   "outputs": [],
   "source": [
    "def estrai_decade(data):\n",
    "    assert re.search('\\d\\d\\d\\d\\-\\d\\d\\-\\d\\d', data)\n",
    "    return(data[0:3]+'0')"
   ]
  },
  {
   "cell_type": "code",
   "execution_count": 28,
   "metadata": {
    "collapsed": true
   },
   "outputs": [],
   "source": [
    "movies4['decade'] = movies4.release_date.apply(estrai_decade)"
   ]
  },
  {
   "cell_type": "code",
   "execution_count": 29,
   "metadata": {},
   "outputs": [
    {
     "data": {
      "text/plain": [
       "production_company_id  name       decade\n",
       "1.0                    Lucasfilm  1970       915398007\n",
       "                                  1980      2430621397\n",
       "                                  1990       924317558\n",
       "                                  2000      2286034361\n",
       "                                  2010        50365377\n",
       "Name: revenue, dtype: int64"
      ]
     },
     "execution_count": 29,
     "metadata": {},
     "output_type": "execute_result"
    }
   ],
   "source": [
    "movies5 = movies4[[\"id\",\"decade\",\"revenue\"]]\n",
    "companies2 = pd.merge(movies_production_companies, production_companies.reset_index(), left_on=\"production_company_id\", right_on=\"id\")\n",
    "max_revenue = pd.merge(companies2, movies5, left_on=\"movie_id\", right_on=\"id\")\n",
    "max_revenue = max_revenue.groupby([\"production_company_id\", \"name\",\"decade\"]).sum().revenue\n",
    "max_revenue.head()"
   ]
  },
  {
   "cell_type": "markdown",
   "metadata": {},
   "source": [
    "11) For each decade, compute the company with maximum revenue."
   ]
  },
  {
   "cell_type": "code",
   "execution_count": 30,
   "metadata": {},
   "outputs": [
    {
     "data": {
      "text/plain": [
       "decade\n",
       "1910          (1307.0, Triangle Film Corporation, 1910)\n",
       "1920          (8411.0, Metro-Goldwyn-Mayer (MGM), 1920)\n",
       "1930    (1553.0, Selznick International Pictures, 1930)\n",
       "1940            (3166.0, Walt Disney Productions, 1940)\n",
       "1950          (8411.0, Metro-Goldwyn-Mayer (MGM), 1950)\n",
       "1960                    (7576.0, Eon Productions, 1960)\n",
       "1970                       (60.0, United Artists, 1970)\n",
       "1980                    (4.0, Paramount Pictures, 1980)\n",
       "1990                    (4.0, Paramount Pictures, 1990)\n",
       "2000                       (6194.0, Warner Bros., 2000)\n",
       "2010                   (33.0, Universal Pictures, 2010)\n",
       "Name: revenue, dtype: object"
      ]
     },
     "execution_count": 30,
     "metadata": {},
     "output_type": "execute_result"
    }
   ],
   "source": [
    "max_revenue.groupby(\"decade\").idxmax()"
   ]
  },
  {
   "cell_type": "code",
   "execution_count": 31,
   "metadata": {},
   "outputs": [
    {
     "data": {
      "text/html": [
       "<div>\n",
       "<style>\n",
       "    .dataframe thead tr:only-child th {\n",
       "        text-align: right;\n",
       "    }\n",
       "\n",
       "    .dataframe thead th {\n",
       "        text-align: left;\n",
       "    }\n",
       "\n",
       "    .dataframe tbody tr th {\n",
       "        vertical-align: top;\n",
       "    }\n",
       "</style>\n",
       "<table border=\"1\" class=\"dataframe\">\n",
       "  <thead>\n",
       "    <tr style=\"text-align: right;\">\n",
       "      <th></th>\n",
       "      <th>name</th>\n",
       "      <th>decade</th>\n",
       "      <th>revenue</th>\n",
       "    </tr>\n",
       "  </thead>\n",
       "  <tbody>\n",
       "    <tr>\n",
       "      <th>4</th>\n",
       "      <td>Triangle Film Corporation</td>\n",
       "      <td>1910</td>\n",
       "      <td>8394751</td>\n",
       "    </tr>\n",
       "    <tr>\n",
       "      <th>5</th>\n",
       "      <td>Wark Producing Corp.</td>\n",
       "      <td>1910</td>\n",
       "      <td>8394751</td>\n",
       "    </tr>\n",
       "    <tr>\n",
       "      <th>11</th>\n",
       "      <td>Metro-Goldwyn-Mayer (MGM)</td>\n",
       "      <td>1920</td>\n",
       "      <td>26358000</td>\n",
       "    </tr>\n",
       "    <tr>\n",
       "      <th>6</th>\n",
       "      <td>Selznick International Pictures</td>\n",
       "      <td>1930</td>\n",
       "      <td>400176459</td>\n",
       "    </tr>\n",
       "    <tr>\n",
       "      <th>7</th>\n",
       "      <td>Metro-Goldwyn-Mayer (MGM)</td>\n",
       "      <td>1930</td>\n",
       "      <td>400176459</td>\n",
       "    </tr>\n",
       "    <tr>\n",
       "      <th>8</th>\n",
       "      <td>Walt Disney Productions</td>\n",
       "      <td>1940</td>\n",
       "      <td>351747150</td>\n",
       "    </tr>\n",
       "    <tr>\n",
       "      <th>12</th>\n",
       "      <td>Metro-Goldwyn-Mayer (MGM)</td>\n",
       "      <td>1950</td>\n",
       "      <td>73770324</td>\n",
       "    </tr>\n",
       "    <tr>\n",
       "      <th>10</th>\n",
       "      <td>Eon Productions</td>\n",
       "      <td>1960</td>\n",
       "      <td>598134765</td>\n",
       "    </tr>\n",
       "    <tr>\n",
       "      <th>3</th>\n",
       "      <td>United Artists</td>\n",
       "      <td>1970</td>\n",
       "      <td>1392271577</td>\n",
       "    </tr>\n",
       "    <tr>\n",
       "      <th>0</th>\n",
       "      <td>Paramount Pictures</td>\n",
       "      <td>1980</td>\n",
       "      <td>4431144486</td>\n",
       "    </tr>\n",
       "    <tr>\n",
       "      <th>1</th>\n",
       "      <td>Paramount Pictures</td>\n",
       "      <td>1990</td>\n",
       "      <td>8824732067</td>\n",
       "    </tr>\n",
       "    <tr>\n",
       "      <th>9</th>\n",
       "      <td>Warner Bros.</td>\n",
       "      <td>2000</td>\n",
       "      <td>22897419289</td>\n",
       "    </tr>\n",
       "    <tr>\n",
       "      <th>2</th>\n",
       "      <td>Universal Pictures</td>\n",
       "      <td>2010</td>\n",
       "      <td>15521006459</td>\n",
       "    </tr>\n",
       "  </tbody>\n",
       "</table>\n",
       "</div>"
      ],
      "text/plain": [
       "                               name decade      revenue\n",
       "4         Triangle Film Corporation   1910      8394751\n",
       "5              Wark Producing Corp.   1910      8394751\n",
       "11        Metro-Goldwyn-Mayer (MGM)   1920     26358000\n",
       "6   Selznick International Pictures   1930    400176459\n",
       "7         Metro-Goldwyn-Mayer (MGM)   1930    400176459\n",
       "8           Walt Disney Productions   1940    351747150\n",
       "12        Metro-Goldwyn-Mayer (MGM)   1950     73770324\n",
       "10                  Eon Productions   1960    598134765\n",
       "3                    United Artists   1970   1392271577\n",
       "0                Paramount Pictures   1980   4431144486\n",
       "1                Paramount Pictures   1990   8824732067\n",
       "9                      Warner Bros.   2000  22897419289\n",
       "2                Universal Pictures   2010  15521006459"
      ]
     },
     "execution_count": 31,
     "metadata": {},
     "output_type": "execute_result"
    }
   ],
   "source": [
    "max_revenue2 = pd.DataFrame(max_revenue).reset_index()\n",
    "max_revenue3 = pd.DataFrame(max_revenue.groupby(\"decade\").max()).reset_index()\n",
    "pd.merge(max_revenue2, max_revenue3, on=[\"decade\",\"revenue\"])[[\"name\",\"decade\",\"revenue\"]].sort_values(\"decade\")"
   ]
  },
  {
   "cell_type": "markdown",
   "metadata": {},
   "source": [
    "12) In each year, how many movies have revenue smaller than the budget?"
   ]
  },
  {
   "cell_type": "code",
   "execution_count": 32,
   "metadata": {
    "collapsed": true
   },
   "outputs": [],
   "source": [
    "movies6 = movies4[movies4.gross_margin<0]\n",
    "movies6 = movies6.reset_index()\n",
    "del movies6['index']\n",
    "movies6[\"year\"] = movies6.release_date.apply(estrai_anno)"
   ]
  },
  {
   "cell_type": "code",
   "execution_count": 33,
   "metadata": {},
   "outputs": [
    {
     "data": {
      "text/plain": [
       "year\n",
       "2012    52\n",
       "2013    62\n",
       "2014    59\n",
       "2015    67\n",
       "2016    26\n",
       "dtype: int64"
      ]
     },
     "execution_count": 33,
     "metadata": {},
     "output_type": "execute_result"
    }
   ],
   "source": [
    "movies6.groupby(\"year\").size().tail()"
   ]
  },
  {
   "cell_type": "markdown",
   "metadata": {},
   "source": [
    "13) Distribute the revenue according to the order of appearance in a movie. Assume that the i-th actor contributes twice as much as the (i+1)-th actor to the revenue"
   ]
  },
  {
   "cell_type": "code",
   "execution_count": 34,
   "metadata": {
    "collapsed": true
   },
   "outputs": [],
   "source": [
    "film_rev = movies[[\"id\",\"revenue\"]]\n",
    "film_rev = film_rev[film_rev.revenue != 0]"
   ]
  },
  {
   "cell_type": "code",
   "execution_count": 35,
   "metadata": {
    "collapsed": true
   },
   "outputs": [],
   "source": [
    "def revenue_parts(film):\n",
    "    id_film = film.id\n",
    "    revenue = film.revenue\n",
    "    num_act = len(credits_cast[credits_cast.movie_id==id_film])\n",
    "    if num_act != 0:\n",
    "        parte_revenue = revenue / ((2**num_act)-1)\n",
    "        return(parte_revenue)\n",
    "    else:\n",
    "        return(-999)\n",
    "film_rev[\"parte_revenue\"] = film_rev.apply(revenue_parts, axis=1)"
   ]
  },
  {
   "cell_type": "code",
   "execution_count": 36,
   "metadata": {
    "collapsed": true
   },
   "outputs": [],
   "source": [
    "film_rev = film_rev[film_rev.parte_revenue != -999]"
   ]
  },
  {
   "cell_type": "code",
   "execution_count": 37,
   "metadata": {
    "collapsed": true
   },
   "outputs": [],
   "source": [
    "credits_cast2 = credits_cast.sort_values(\"order\", ascending=0)"
   ]
  },
  {
   "cell_type": "code",
   "execution_count": 38,
   "metadata": {
    "collapsed": true
   },
   "outputs": [],
   "source": [
    "def distribuisci(film):\n",
    "    lista = []\n",
    "    id_film = film.id\n",
    "    parte = film.parte_revenue\n",
    "    i = 1\n",
    "    for el in credits_cast2[credits_cast2.movie_id==id_film].iterrows():\n",
    "        diz = {}\n",
    "        diz[\"parte\"] = i*parte\n",
    "        diz[\"credit_id\"] = el[0]\n",
    "        lista.append(diz)\n",
    "        i*=2\n",
    "    return(lista)"
   ]
  },
  {
   "cell_type": "code",
   "execution_count": 39,
   "metadata": {
    "collapsed": true
   },
   "outputs": [],
   "source": [
    "film_rev[\"cast\"] = film_rev.apply(distribuisci, axis=1)"
   ]
  },
  {
   "cell_type": "code",
   "execution_count": 40,
   "metadata": {
    "collapsed": true
   },
   "outputs": [],
   "source": [
    "def normalize_film(colonna):\n",
    "    a = colonna.apply(json_normalize)\n",
    "    return(pd.concat(a.values).reset_index().drop(\"index\", axis=1))\n",
    "cast_rev = normalize_film(film_rev.cast)"
   ]
  },
  {
   "cell_type": "code",
   "execution_count": 41,
   "metadata": {
    "collapsed": true
   },
   "outputs": [],
   "source": [
    "credits_cast = pd.merge(credits_cast.reset_index(), cast_rev, on=\"credit_id\", how=\"outer\")"
   ]
  },
  {
   "cell_type": "code",
   "execution_count": 42,
   "metadata": {},
   "outputs": [
    {
     "data": {
      "text/plain": [
       "2787965087"
      ]
     },
     "execution_count": 42,
     "metadata": {},
     "output_type": "execute_result"
    }
   ],
   "source": [
    "int(round(sum(credits_cast[credits_cast.movie_id==19995].parte)))"
   ]
  },
  {
   "cell_type": "code",
   "execution_count": 43,
   "metadata": {},
   "outputs": [
    {
     "data": {
      "text/plain": [
       "2787965087"
      ]
     },
     "execution_count": 43,
     "metadata": {},
     "output_type": "execute_result"
    }
   ],
   "source": [
    "movies.revenue[0]"
   ]
  },
  {
   "cell_type": "markdown",
   "metadata": {},
   "source": [
    "14) For each actor find the total revenue attributed to him/her"
   ]
  },
  {
   "cell_type": "code",
   "execution_count": 44,
   "metadata": {},
   "outputs": [
    {
     "data": {
      "text/html": [
       "<div>\n",
       "<style>\n",
       "    .dataframe thead tr:only-child th {\n",
       "        text-align: right;\n",
       "    }\n",
       "\n",
       "    .dataframe thead th {\n",
       "        text-align: left;\n",
       "    }\n",
       "\n",
       "    .dataframe tbody tr th {\n",
       "        vertical-align: top;\n",
       "    }\n",
       "</style>\n",
       "<table border=\"1\" class=\"dataframe\">\n",
       "  <thead>\n",
       "    <tr style=\"text-align: right;\">\n",
       "      <th></th>\n",
       "      <th>id</th>\n",
       "      <th>name</th>\n",
       "      <th>total_revenue</th>\n",
       "    </tr>\n",
       "  </thead>\n",
       "  <tbody>\n",
       "    <tr>\n",
       "      <th>0</th>\n",
       "      <td>1.0</td>\n",
       "      <td>George Lucas</td>\n",
       "      <td>5.487000e+01</td>\n",
       "    </tr>\n",
       "    <tr>\n",
       "      <th>1</th>\n",
       "      <td>2.0</td>\n",
       "      <td>Mark Hamill</td>\n",
       "      <td>9.432493e+08</td>\n",
       "    </tr>\n",
       "    <tr>\n",
       "      <th>2</th>\n",
       "      <td>3.0</td>\n",
       "      <td>Harrison Ford</td>\n",
       "      <td>2.509048e+09</td>\n",
       "    </tr>\n",
       "    <tr>\n",
       "      <th>3</th>\n",
       "      <td>4.0</td>\n",
       "      <td>Carrie Fisher</td>\n",
       "      <td>2.483645e+08</td>\n",
       "    </tr>\n",
       "    <tr>\n",
       "      <th>4</th>\n",
       "      <td>5.0</td>\n",
       "      <td>Peter Cushing</td>\n",
       "      <td>4.846238e+07</td>\n",
       "    </tr>\n",
       "  </tbody>\n",
       "</table>\n",
       "</div>"
      ],
      "text/plain": [
       "    id           name  total_revenue\n",
       "0  1.0   George Lucas   5.487000e+01\n",
       "1  2.0    Mark Hamill   9.432493e+08\n",
       "2  3.0  Harrison Ford   2.509048e+09\n",
       "3  4.0  Carrie Fisher   2.483645e+08\n",
       "4  5.0  Peter Cushing   4.846238e+07"
      ]
     },
     "execution_count": 44,
     "metadata": {},
     "output_type": "execute_result"
    }
   ],
   "source": [
    "credits_cast[credits_cast.parte.isnull()] = 0\n",
    "actor_revenue = pd.DataFrame(credits_cast.groupby(\"person_id\").sum().parte).reset_index()\n",
    "actor_revenue = pd.merge(actor_revenue, people.reset_index(), left_on=\"person_id\", right_on=\"id\")\n",
    "actor_revenue = actor_revenue[[\"id\", \"name\", \"parte\"]]\n",
    "actor_revenue.columns = [\"id\", \"name\", \"total_revenue\"]\n",
    "actor_revenue.head().round(2)"
   ]
  },
  {
   "cell_type": "markdown",
   "metadata": {},
   "source": [
    "15) Find the actor that is responsible for the most overall revenue"
   ]
  },
  {
   "cell_type": "code",
   "execution_count": 45,
   "metadata": {},
   "outputs": [
    {
     "data": {
      "text/html": [
       "<div>\n",
       "<style>\n",
       "    .dataframe thead tr:only-child th {\n",
       "        text-align: right;\n",
       "    }\n",
       "\n",
       "    .dataframe thead th {\n",
       "        text-align: left;\n",
       "    }\n",
       "\n",
       "    .dataframe tbody tr th {\n",
       "        vertical-align: top;\n",
       "    }\n",
       "</style>\n",
       "<table border=\"1\" class=\"dataframe\">\n",
       "  <thead>\n",
       "    <tr style=\"text-align: right;\">\n",
       "      <th></th>\n",
       "      <th>id</th>\n",
       "      <th>name</th>\n",
       "      <th>total_revenue</th>\n",
       "    </tr>\n",
       "  </thead>\n",
       "  <tbody>\n",
       "    <tr>\n",
       "      <th>211</th>\n",
       "      <td>500.0</td>\n",
       "      <td>Tom Cruise</td>\n",
       "      <td>3.976120e+09</td>\n",
       "    </tr>\n",
       "  </tbody>\n",
       "</table>\n",
       "</div>"
      ],
      "text/plain": [
       "        id        name  total_revenue\n",
       "211  500.0  Tom Cruise   3.976120e+09"
      ]
     },
     "execution_count": 45,
     "metadata": {},
     "output_type": "execute_result"
    }
   ],
   "source": [
    "actor_revenue.sort_values(\"total_revenue\", ascending=0).head(1)"
   ]
  }
 ],
 "metadata": {
  "kernelspec": {
   "display_name": "Python 3",
   "language": "python",
   "name": "python3"
  },
  "language_info": {
   "codemirror_mode": {
    "name": "ipython",
    "version": 3
   },
   "file_extension": ".py",
   "mimetype": "text/x-python",
   "name": "python",
   "nbconvert_exporter": "python",
   "pygments_lexer": "ipython3",
   "version": "3.6.3"
  }
 },
 "nbformat": 4,
 "nbformat_minor": 2
}
