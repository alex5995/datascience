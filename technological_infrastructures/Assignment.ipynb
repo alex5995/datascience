{
 "cells": [
  {
   "cell_type": "markdown",
   "metadata": {},
   "source": [
    "### ALEX CECCOTTI - 790497\n",
    "### CHALLENGE TECHNOLOGICAL INFRASTRUCTURES"
   ]
  },
  {
   "cell_type": "markdown",
   "metadata": {},
   "source": [
    "Importo il dataset"
   ]
  },
  {
   "cell_type": "code",
   "execution_count": 1,
   "metadata": {
    "collapsed": true
   },
   "outputs": [],
   "source": [
    "from pyspark.sql import SQLContext\n",
    "from pyspark.sql.types import *\n",
    "from pyspark import SparkContext\n",
    "\n",
    "sc = SparkContext.getOrCreate()\n",
    "sqlContext = SQLContext(sc)\n",
    "\n",
    "df = sqlContext.read.format('com.databricks.spark.csv').\\\n",
    "        options(header='true', delimiter=\";\", inferschema='true').load('risultati_totali.csv')"
   ]
  },
  {
   "cell_type": "code",
   "execution_count": 2,
   "metadata": {},
   "outputs": [
    {
     "data": {
      "text/plain": [
       "DataFrame[F1: int, F2: int, F3: int, F4: string, Rep: int, M_OF: int, M_TIME(s): string, CBC_OF: int, CBC_TIME: string, CBC_#FEASIBILITY CUTS: int, CBC_# PENALTY CUTS: int, _c11: string, _c12: string, _c13: string, _c14: string, _c15: string, _c16: string, _c17: string, _c18: string]"
      ]
     },
     "execution_count": 2,
     "metadata": {},
     "output_type": "execute_result"
    }
   ],
   "source": [
    "df"
   ]
  },
  {
   "cell_type": "code",
   "execution_count": 3,
   "metadata": {},
   "outputs": [
    {
     "data": {
      "text/plain": [
       "[Row(F1=3, F2=400, F3=9, F4='A', Rep=1, M_OF=361, M_TIME(s)='0,266', CBC_OF=361, CBC_TIME='0,462', CBC_#FEASIBILITY CUTS=0, CBC_# PENALTY CUTS=0, _c11=None, _c12=None, _c13=None, _c14=None, _c15=None, _c16=None, _c17=None, _c18=None),\n",
       " Row(F1=3, F2=400, F3=9, F4='A', Rep=2, M_OF=306, M_TIME(s)='0,511', CBC_OF=306, CBC_TIME='0,106', CBC_#FEASIBILITY CUTS=0, CBC_# PENALTY CUTS=0, _c11=None, _c12=None, _c13=None, _c14=None, _c15=None, _c16=None, _c17=None, _c18=None),\n",
       " Row(F1=3, F2=400, F3=9, F4='A', Rep=3, M_OF=271, M_TIME(s)='1,052', CBC_OF=271, CBC_TIME='1,646', CBC_#FEASIBILITY CUTS=0, CBC_# PENALTY CUTS=4, _c11=None, _c12=None, _c13=None, _c14=None, _c15=None, _c16=None, _c17=None, _c18=None)]"
      ]
     },
     "execution_count": 3,
     "metadata": {},
     "output_type": "execute_result"
    }
   ],
   "source": [
    "df.take(3)"
   ]
  },
  {
   "cell_type": "markdown",
   "metadata": {},
   "source": [
    "Ci sono delle variabili che assumono valore None e il tempo di esecuzione dei due algoritmi è codificato come stringa"
   ]
  },
  {
   "cell_type": "code",
   "execution_count": 4,
   "metadata": {
    "collapsed": true
   },
   "outputs": [],
   "source": [
    "from pyspark.sql.functions import udf\n",
    "commadot_udf = udf(lambda x: float(x.replace(\",\",\".\")), DoubleType())"
   ]
  },
  {
   "cell_type": "code",
   "execution_count": 5,
   "metadata": {},
   "outputs": [
    {
     "data": {
      "text/plain": [
       "DataFrame[F1: int, F2: int, F3: int, F4: string, Rep: int, M_OF: int, M_TIME: double, CBC_OF: int, CBC_TIME: double, CBC_#FEASIBILITY CUTS: int, CBC_# PENALTY CUTS: int]"
      ]
     },
     "execution_count": 5,
     "metadata": {},
     "output_type": "execute_result"
    }
   ],
   "source": [
    "my_cols = df.columns[0:11]\n",
    "my_data = df.select(my_cols).withColumn(\"M_TIME(s)\", commadot_udf(\"M_TIME(s)\")).withColumn(\"CBC_TIME\", commadot_udf(\"CBC_TIME\"))\n",
    "my_data = my_data.withColumnRenamed(\"M_TIME(s)\", \"M_TIME\")\n",
    "my_data.cache()"
   ]
  },
  {
   "cell_type": "markdown",
   "metadata": {},
   "source": [
    "#### Esercizio 1"
   ]
  },
  {
   "cell_type": "code",
   "execution_count": 6,
   "metadata": {},
   "outputs": [
    {
     "data": {
      "text/html": [
       "<div>\n",
       "<style scoped>\n",
       "    .dataframe tbody tr th:only-of-type {\n",
       "        vertical-align: middle;\n",
       "    }\n",
       "\n",
       "    .dataframe tbody tr th {\n",
       "        vertical-align: top;\n",
       "    }\n",
       "\n",
       "    .dataframe thead th {\n",
       "        text-align: right;\n",
       "    }\n",
       "</style>\n",
       "<table border=\"1\" class=\"dataframe\">\n",
       "  <thead>\n",
       "    <tr style=\"text-align: right;\">\n",
       "      <th></th>\n",
       "      <th>summary</th>\n",
       "      <th>F1</th>\n",
       "      <th>F2</th>\n",
       "      <th>F3</th>\n",
       "      <th>F4</th>\n",
       "      <th>Rep</th>\n",
       "      <th>M_OF</th>\n",
       "      <th>M_TIME</th>\n",
       "      <th>CBC_OF</th>\n",
       "      <th>CBC_TIME</th>\n",
       "      <th>CBC_#FEASIBILITY CUTS</th>\n",
       "      <th>CBC_# PENALTY CUTS</th>\n",
       "    </tr>\n",
       "  </thead>\n",
       "  <tbody>\n",
       "    <tr>\n",
       "      <th>0</th>\n",
       "      <td>count</td>\n",
       "      <td>360</td>\n",
       "      <td>360</td>\n",
       "      <td>360</td>\n",
       "      <td>360</td>\n",
       "      <td>360</td>\n",
       "      <td>360</td>\n",
       "      <td>360</td>\n",
       "      <td>360</td>\n",
       "      <td>360</td>\n",
       "      <td>360</td>\n",
       "      <td>360</td>\n",
       "    </tr>\n",
       "    <tr>\n",
       "      <th>1</th>\n",
       "      <td>mean</td>\n",
       "      <td>6.0</td>\n",
       "      <td>500.0</td>\n",
       "      <td>9.155555555555555</td>\n",
       "      <td>None</td>\n",
       "      <td>5.5</td>\n",
       "      <td>271.575</td>\n",
       "      <td>105.1211083333333</td>\n",
       "      <td>270.85833333333335</td>\n",
       "      <td>87.07493888888881</td>\n",
       "      <td>0.019444444444444445</td>\n",
       "      <td>4.852777777777778</td>\n",
       "    </tr>\n",
       "    <tr>\n",
       "      <th>2</th>\n",
       "      <td>stddev</td>\n",
       "      <td>2.9480176050089826</td>\n",
       "      <td>81.76329719869562</td>\n",
       "      <td>1.6295400592512068</td>\n",
       "      <td>None</td>\n",
       "      <td>2.8762789331691674</td>\n",
       "      <td>98.3542284190714</td>\n",
       "      <td>494.4580101423188</td>\n",
       "      <td>98.25782943139056</td>\n",
       "      <td>382.6576333540671</td>\n",
       "      <td>0.15713210460545812</td>\n",
       "      <td>10.1040819162897</td>\n",
       "    </tr>\n",
       "    <tr>\n",
       "      <th>3</th>\n",
       "      <td>min</td>\n",
       "      <td>3</td>\n",
       "      <td>400</td>\n",
       "      <td>6</td>\n",
       "      <td>A</td>\n",
       "      <td>1</td>\n",
       "      <td>82</td>\n",
       "      <td>0.08</td>\n",
       "      <td>82</td>\n",
       "      <td>0.01</td>\n",
       "      <td>0</td>\n",
       "      <td>0</td>\n",
       "    </tr>\n",
       "    <tr>\n",
       "      <th>4</th>\n",
       "      <td>max</td>\n",
       "      <td>10</td>\n",
       "      <td>600</td>\n",
       "      <td>14</td>\n",
       "      <td>D</td>\n",
       "      <td>10</td>\n",
       "      <td>658</td>\n",
       "      <td>3600.0</td>\n",
       "      <td>658</td>\n",
       "      <td>3600.0</td>\n",
       "      <td>2</td>\n",
       "      <td>73</td>\n",
       "    </tr>\n",
       "  </tbody>\n",
       "</table>\n",
       "</div>"
      ],
      "text/plain": [
       "  summary                  F1                 F2                  F3    F4  \\\n",
       "0   count                 360                360                 360   360   \n",
       "1    mean                 6.0              500.0   9.155555555555555  None   \n",
       "2  stddev  2.9480176050089826  81.76329719869562  1.6295400592512068  None   \n",
       "3     min                   3                400                   6     A   \n",
       "4     max                  10                600                  14     D   \n",
       "\n",
       "                  Rep              M_OF             M_TIME  \\\n",
       "0                 360               360                360   \n",
       "1                 5.5           271.575  105.1211083333333   \n",
       "2  2.8762789331691674  98.3542284190714  494.4580101423188   \n",
       "3                   1                82               0.08   \n",
       "4                  10               658             3600.0   \n",
       "\n",
       "               CBC_OF           CBC_TIME CBC_#FEASIBILITY CUTS  \\\n",
       "0                 360                360                   360   \n",
       "1  270.85833333333335  87.07493888888881  0.019444444444444445   \n",
       "2   98.25782943139056  382.6576333540671   0.15713210460545812   \n",
       "3                  82               0.01                     0   \n",
       "4                 658             3600.0                     2   \n",
       "\n",
       "  CBC_# PENALTY CUTS  \n",
       "0                360  \n",
       "1  4.852777777777778  \n",
       "2   10.1040819162897  \n",
       "3                  0  \n",
       "4                 73  "
      ]
     },
     "execution_count": 6,
     "metadata": {},
     "output_type": "execute_result"
    }
   ],
   "source": [
    "my_data.describe().toPandas()"
   ]
  },
  {
   "cell_type": "markdown",
   "metadata": {},
   "source": [
    "Le variabili numeriche vengono descritte bene, ma la variabile \"F4\" che è categorica va analizzata meglio"
   ]
  },
  {
   "cell_type": "code",
   "execution_count": 7,
   "metadata": {},
   "outputs": [
    {
     "name": "stdout",
     "output_type": "stream",
     "text": [
      "+---+-----+\n",
      "| F4|count|\n",
      "+---+-----+\n",
      "|  B|   90|\n",
      "|  D|   90|\n",
      "|  C|   90|\n",
      "|  A|   90|\n",
      "+---+-----+\n",
      "\n"
     ]
    }
   ],
   "source": [
    "my_data.groupBy(\"F4\").count().show()"
   ]
  },
  {
   "cell_type": "markdown",
   "metadata": {},
   "source": [
    "#### Esercizio 2"
   ]
  },
  {
   "cell_type": "code",
   "execution_count": 9,
   "metadata": {},
   "outputs": [
    {
     "data": {
      "text/plain": [
       "<matplotlib.axes._subplots.AxesSubplot at 0x7fc38c5cb320>"
      ]
     },
     "execution_count": 9,
     "metadata": {},
     "output_type": "execute_result"
    },
    {
     "data": {
      "image/png": "[encoded data removed]",
      "text/plain": [
       "<Figure size 432x288 with 1 Axes>"
      ]
     },
     "metadata": {
      "needs_background": "light"
     },
     "output_type": "display_data"
    }
   ],
   "source": [
    "import seaborn as sns\n",
    "pand_data = my_data.select(\"M_OF\",\"CBC_OF\").toPandas()\n",
    "sns.kdeplot(pand_data[\"M_OF\"], shade=True)"
   ]
  },
  {
   "cell_type": "code",
   "execution_count": 10,
   "metadata": {},
   "outputs": [
    {
     "data": {
      "text/plain": [
       "<matplotlib.axes._subplots.AxesSubplot at 0x7fc38c5affd0>"
      ]
     },
     "execution_count": 10,
     "metadata": {},
     "output_type": "execute_result"
    },
    {
     "data": {
      "image/png": "[encoded data removed]",
      "text/plain": [
       "<Figure size 432x288 with 1 Axes>"
      ]
     },
     "metadata": {
      "needs_background": "light"
     },
     "output_type": "display_data"
    }
   ],
   "source": [
    "sns.kdeplot(pand_data[\"CBC_OF\"], shade=True)"
   ]
  },
  {
   "cell_type": "markdown",
   "metadata": {},
   "source": [
    "Le due distribuzioni sono praticamente identiche"
   ]
  },
  {
   "cell_type": "markdown",
   "metadata": {},
   "source": [
    "Lo si può notare anche dai seguenti violinplot messi a confronto"
   ]
  },
  {
   "cell_type": "code",
   "execution_count": 11,
   "metadata": {},
   "outputs": [
    {
     "data": {
      "text/plain": [
       "<matplotlib.axes._subplots.AxesSubplot at 0x7fc38c528780>"
      ]
     },
     "execution_count": 11,
     "metadata": {},
     "output_type": "execute_result"
    },
    {
     "data": {
      "image/png": "[encoded data removed]",
      "text/plain": [
       "<Figure size 432x288 with 1 Axes>"
      ]
     },
     "metadata": {
      "needs_background": "light"
     },
     "output_type": "display_data"
    }
   ],
   "source": [
    "sns.violinplot(data=pand_data[[\"M_OF\",\"CBC_OF\"]], palette=\"Blues\")"
   ]
  },
  {
   "cell_type": "markdown",
   "metadata": {},
   "source": [
    "Dato che si tratta di campioni appaiati, dovrei eseguire un test T sulla media delle differenze delle due variabili"
   ]
  },
  {
   "cell_type": "code",
   "execution_count": 12,
   "metadata": {},
   "outputs": [
    {
     "data": {
      "text/plain": [
       "<matplotlib.axes._subplots.AxesSubplot at 0x7fc38c49b198>"
      ]
     },
     "execution_count": 12,
     "metadata": {},
     "output_type": "execute_result"
    },
    {
     "data": {
      "image/png": "[encoded data removed]",
      "text/plain": [
       "<Figure size 432x288 with 1 Axes>"
      ]
     },
     "metadata": {
      "needs_background": "light"
     },
     "output_type": "display_data"
    }
   ],
   "source": [
    "def diff(x,y):\n",
    "    return x-y\n",
    "diff_udf = udf(diff, IntegerType())\n",
    "my_samp = my_data.select(diff_udf(\"M_OF\",\"CBC_OF\")).withColumnRenamed('diff(M_OF, CBC_OF)', 'differenze').toPandas()\n",
    "sns.kdeplot(my_samp[\"differenze\"], shade=True)"
   ]
  },
  {
   "cell_type": "markdown",
   "metadata": {},
   "source": [
    "La distribuzione non sembra essere normale, dunque non posso utilizzare un test T sulla media delle differenze (test utilizzato per campioni appaiati)"
   ]
  },
  {
   "cell_type": "code",
   "execution_count": 13,
   "metadata": {},
   "outputs": [
    {
     "data": {
      "text/plain": [
       "(0.04292076826095581, 8.479880585446093e-39)"
      ]
     },
     "execution_count": 13,
     "metadata": {},
     "output_type": "execute_result"
    }
   ],
   "source": [
    "from scipy.stats import shapiro\n",
    "shapiro(my_samp[\"differenze\"])"
   ]
  },
  {
   "cell_type": "markdown",
   "metadata": {},
   "source": [
    "L'ipotesi di normalità viene infatti rifiutata dallo shapiro test"
   ]
  },
  {
   "cell_type": "markdown",
   "metadata": {},
   "source": [
    "Proviamo dunque ad effettuare in spark un test non parametrico basato sulla mediana"
   ]
  },
  {
   "cell_type": "code",
   "execution_count": 14,
   "metadata": {
    "collapsed": true
   },
   "outputs": [],
   "source": [
    "m_of = my_data.select(\"M_OF\")\n",
    "cbc_of = my_data.select(\"CBC_OF\")\n",
    "total_of = m_of.union(cbc_of)\n",
    "median = total_of.approxQuantile(\"M_OF\", [0.5], 0)[0]\n",
    "m_down = m_of.filter(m_of[\"M_OF\"]<median).count()\n",
    "cbc_down = cbc_of.filter(cbc_of[\"CBC_OF\"]<median).count()\n",
    "n = m_of.count()"
   ]
  },
  {
   "cell_type": "markdown",
   "metadata": {},
   "source": [
    "Viene calcolata la mediana sulla totalità delle istanze (osservazioni di M e CBC insieme), per ognuno dei due algoritmi si contano le istanza con valore inforiore e superiore alla mediana appena calcolata e infine si effettua un test chi-quadrato sulla tabella di contigenze ottenuta"
   ]
  },
  {
   "cell_type": "code",
   "execution_count": 15,
   "metadata": {},
   "outputs": [
    {
     "data": {
      "text/plain": [
       "1.0"
      ]
     },
     "execution_count": 15,
     "metadata": {},
     "output_type": "execute_result"
    }
   ],
   "source": [
    "from scipy.stats import chi2_contingency as chi_test\n",
    "chi_test([[m_down, n-m_down],[cbc_down, n-cbc_down]])[1]"
   ]
  },
  {
   "cell_type": "markdown",
   "metadata": {},
   "source": [
    "Il p-value è approssimato a 1, dunque posso accettare l'ipotesi che i due campioni siano estratti da popolazioni che hanno mediane coincidenti"
   ]
  },
  {
   "cell_type": "markdown",
   "metadata": {},
   "source": [
    "In termini di performance non riesco quindi a decidere quale dei due algoritmi sia il migliore"
   ]
  },
  {
   "cell_type": "markdown",
   "metadata": {},
   "source": [
    "#### Esercizio 3"
   ]
  },
  {
   "cell_type": "code",
   "execution_count": 16,
   "metadata": {},
   "outputs": [
    {
     "data": {
      "image/png": "[encoded data removed]",
      "text/plain": [
       "<Figure size 432x288 with 1 Axes>"
      ]
     },
     "metadata": {
      "needs_background": "light"
     },
     "output_type": "display_data"
    }
   ],
   "source": [
    "pand_data2 = my_data.select(\"M_TIME\",\"CBC_TIME\").toPandas()\n",
    "p1=sns.kdeplot(pand_data2[\"M_TIME\"], shade=True, color=\"r\")\n",
    "p1=sns.kdeplot(pand_data2[\"CBC_TIME\"], shade=True, color=\"b\")"
   ]
  },
  {
   "cell_type": "code",
   "execution_count": 17,
   "metadata": {},
   "outputs": [
    {
     "data": {
      "text/plain": [
       "<matplotlib.axes._subplots.AxesSubplot at 0x7fc38c4649e8>"
      ]
     },
     "execution_count": 17,
     "metadata": {},
     "output_type": "execute_result"
    },
    {
     "data": {
      "image/png": "[encoded data removed]",
      "text/plain": [
       "<Figure size 432x288 with 1 Axes>"
      ]
     },
     "metadata": {
      "needs_background": "light"
     },
     "output_type": "display_data"
    }
   ],
   "source": [
    "sns.violinplot(data=pand_data2[[\"M_TIME\",\"CBC_TIME\"]], palette=\"Blues\")"
   ]
  },
  {
   "cell_type": "markdown",
   "metadata": {},
   "source": [
    "In questo caso le distribuzioni sembrano essere diverse, anche se simili"
   ]
  },
  {
   "cell_type": "code",
   "execution_count": 18,
   "metadata": {},
   "outputs": [
    {
     "data": {
      "text/plain": [
       "<matplotlib.axes._subplots.AxesSubplot at 0x7fc38c346400>"
      ]
     },
     "execution_count": 18,
     "metadata": {},
     "output_type": "execute_result"
    },
    {
     "data": {
      "image/png": "[encoded data removed]",
      "text/plain": [
       "<Figure size 432x288 with 1 Axes>"
      ]
     },
     "metadata": {
      "needs_background": "light"
     },
     "output_type": "display_data"
    }
   ],
   "source": [
    "diff_udf = udf(diff, DoubleType())\n",
    "my_samp2 = my_data.select(diff_udf(\"M_TIME\",\"CBC_TIME\")).withColumnRenamed('diff(M_TIME, CBC_TIME)', 'differenze').toPandas()\n",
    "sns.kdeplot(my_samp2[\"differenze\"], shade=True)"
   ]
  },
  {
   "cell_type": "code",
   "execution_count": 19,
   "metadata": {},
   "outputs": [
    {
     "data": {
      "text/plain": [
       "(0.2632717490196228, 2.2766389709409908e-35)"
      ]
     },
     "execution_count": 19,
     "metadata": {},
     "output_type": "execute_result"
    }
   ],
   "source": [
    "shapiro(my_samp2[\"differenze\"])"
   ]
  },
  {
   "cell_type": "markdown",
   "metadata": {},
   "source": [
    "Anche in questo caso rifiuto l'ipotesi di normalità delle differenze e non posso dunque effettuare un test T"
   ]
  },
  {
   "cell_type": "markdown",
   "metadata": {},
   "source": [
    "Rieseguo con queste variabili il test non parametrico visto in precedenza"
   ]
  },
  {
   "cell_type": "code",
   "execution_count": 20,
   "metadata": {
    "collapsed": true
   },
   "outputs": [],
   "source": [
    "m_time = my_data.select(\"M_TIME\")\n",
    "cbc_time = my_data.select(\"CBC_TIME\")\n",
    "total_time = m_time.union(cbc_time)\n",
    "median2 = total_time.approxQuantile(\"M_TIME\", [0.5], 0)[0]\n",
    "m_down2 = m_time.filter(m_time[\"M_TIME\"]<median2).count()\n",
    "cbc_down2 = cbc_time.filter(cbc_time[\"CBC_TIME\"]<median2).count()"
   ]
  },
  {
   "cell_type": "code",
   "execution_count": 21,
   "metadata": {},
   "outputs": [
    {
     "data": {
      "text/plain": [
       "1.8134240346021896e-07"
      ]
     },
     "execution_count": 21,
     "metadata": {},
     "output_type": "execute_result"
    }
   ],
   "source": [
    "chi_test([[m_down2, n-m_down2],[cbc_down2, n-cbc_down2]])[1]"
   ]
  },
  {
   "cell_type": "markdown",
   "metadata": {},
   "source": [
    "Il p-value è molto prossimo allo 0, dunque non posso accettare l'ipotesi che i due campioni siano estratti da popolazioni che hanno mediane coincidenti"
   ]
  },
  {
   "cell_type": "code",
   "execution_count": 22,
   "metadata": {},
   "outputs": [
    {
     "data": {
      "text/plain": [
       "[144, 215]"
      ]
     },
     "execution_count": 22,
     "metadata": {},
     "output_type": "execute_result"
    }
   ],
   "source": [
    "[m_down2, cbc_down2]"
   ]
  },
  {
   "cell_type": "markdown",
   "metadata": {},
   "source": [
    "L'argoritmo CBC sembra essere il migliore in quanto ha più osservazioni con valore della variabile TIME sotto la mediana della totalità delle istanze"
   ]
  },
  {
   "cell_type": "markdown",
   "metadata": {},
   "source": [
    "#### Esercizio 4"
   ]
  },
  {
   "cell_type": "code",
   "execution_count": 23,
   "metadata": {
    "collapsed": true
   },
   "outputs": [],
   "source": [
    "from pyspark.ml.stat import Correlation\n",
    "from pyspark.ml.feature import VectorAssembler\n",
    "\n",
    "col_names = my_data.columns\n",
    "del col_names[3]\n",
    "\n",
    "vector_col = \"corr_features\"\n",
    "assembler = VectorAssembler(inputCols=col_names, outputCol=vector_col)\n",
    "df_vector = assembler.transform(my_data).select(vector_col)\n",
    "\n",
    "matrix = Correlation.corr(df_vector, vector_col)"
   ]
  },
  {
   "cell_type": "code",
   "execution_count": 24,
   "metadata": {},
   "outputs": [
    {
     "data": {
      "text/html": [
       "<div>\n",
       "<style scoped>\n",
       "    .dataframe tbody tr th:only-of-type {\n",
       "        vertical-align: middle;\n",
       "    }\n",
       "\n",
       "    .dataframe tbody tr th {\n",
       "        vertical-align: top;\n",
       "    }\n",
       "\n",
       "    .dataframe thead th {\n",
       "        text-align: right;\n",
       "    }\n",
       "</style>\n",
       "<table border=\"1\" class=\"dataframe\">\n",
       "  <thead>\n",
       "    <tr style=\"text-align: right;\">\n",
       "      <th></th>\n",
       "      <th>F1</th>\n",
       "      <th>F2</th>\n",
       "      <th>F3</th>\n",
       "      <th>Rep</th>\n",
       "      <th>M_OF</th>\n",
       "      <th>M_TIME</th>\n",
       "      <th>CBC_OF</th>\n",
       "      <th>CBC_TIME</th>\n",
       "      <th>CBC_#FEASIBILITY CUTS</th>\n",
       "      <th>CBC_# PENALTY CUTS</th>\n",
       "    </tr>\n",
       "  </thead>\n",
       "  <tbody>\n",
       "    <tr>\n",
       "      <th>F1</th>\n",
       "      <td>1.000</td>\n",
       "      <td>0.000</td>\n",
       "      <td>-0.071</td>\n",
       "      <td>0.000</td>\n",
       "      <td>-0.111</td>\n",
       "      <td>0.273</td>\n",
       "      <td>-0.121</td>\n",
       "      <td>0.293</td>\n",
       "      <td>0.126</td>\n",
       "      <td>0.387</td>\n",
       "    </tr>\n",
       "    <tr>\n",
       "      <th>F2</th>\n",
       "      <td>0.000</td>\n",
       "      <td>1.000</td>\n",
       "      <td>0.740</td>\n",
       "      <td>0.000</td>\n",
       "      <td>0.464</td>\n",
       "      <td>0.153</td>\n",
       "      <td>0.470</td>\n",
       "      <td>0.143</td>\n",
       "      <td>0.022</td>\n",
       "      <td>0.180</td>\n",
       "    </tr>\n",
       "    <tr>\n",
       "      <th>F3</th>\n",
       "      <td>-0.071</td>\n",
       "      <td>0.740</td>\n",
       "      <td>1.000</td>\n",
       "      <td>-0.007</td>\n",
       "      <td>0.577</td>\n",
       "      <td>0.188</td>\n",
       "      <td>0.579</td>\n",
       "      <td>0.180</td>\n",
       "      <td>0.086</td>\n",
       "      <td>0.217</td>\n",
       "    </tr>\n",
       "    <tr>\n",
       "      <th>Rep</th>\n",
       "      <td>0.000</td>\n",
       "      <td>0.000</td>\n",
       "      <td>-0.007</td>\n",
       "      <td>1.000</td>\n",
       "      <td>-0.041</td>\n",
       "      <td>0.032</td>\n",
       "      <td>-0.038</td>\n",
       "      <td>0.017</td>\n",
       "      <td>0.059</td>\n",
       "      <td>0.009</td>\n",
       "    </tr>\n",
       "    <tr>\n",
       "      <th>M_OF</th>\n",
       "      <td>-0.111</td>\n",
       "      <td>0.464</td>\n",
       "      <td>0.577</td>\n",
       "      <td>-0.041</td>\n",
       "      <td>1.000</td>\n",
       "      <td>0.167</td>\n",
       "      <td>0.993</td>\n",
       "      <td>0.206</td>\n",
       "      <td>0.008</td>\n",
       "      <td>0.157</td>\n",
       "    </tr>\n",
       "    <tr>\n",
       "      <th>M_TIME</th>\n",
       "      <td>0.273</td>\n",
       "      <td>0.153</td>\n",
       "      <td>0.188</td>\n",
       "      <td>0.032</td>\n",
       "      <td>0.167</td>\n",
       "      <td>1.000</td>\n",
       "      <td>0.168</td>\n",
       "      <td>0.722</td>\n",
       "      <td>0.128</td>\n",
       "      <td>0.551</td>\n",
       "    </tr>\n",
       "    <tr>\n",
       "      <th>CBC_OF</th>\n",
       "      <td>-0.121</td>\n",
       "      <td>0.470</td>\n",
       "      <td>0.579</td>\n",
       "      <td>-0.038</td>\n",
       "      <td>0.993</td>\n",
       "      <td>0.168</td>\n",
       "      <td>1.000</td>\n",
       "      <td>0.206</td>\n",
       "      <td>0.005</td>\n",
       "      <td>0.154</td>\n",
       "    </tr>\n",
       "    <tr>\n",
       "      <th>CBC_TIME</th>\n",
       "      <td>0.293</td>\n",
       "      <td>0.143</td>\n",
       "      <td>0.180</td>\n",
       "      <td>0.017</td>\n",
       "      <td>0.206</td>\n",
       "      <td>0.722</td>\n",
       "      <td>0.206</td>\n",
       "      <td>1.000</td>\n",
       "      <td>0.042</td>\n",
       "      <td>0.665</td>\n",
       "    </tr>\n",
       "    <tr>\n",
       "      <th>CBC_#FEASIBILITY CUTS</th>\n",
       "      <td>0.126</td>\n",
       "      <td>0.022</td>\n",
       "      <td>0.086</td>\n",
       "      <td>0.059</td>\n",
       "      <td>0.008</td>\n",
       "      <td>0.128</td>\n",
       "      <td>0.005</td>\n",
       "      <td>0.042</td>\n",
       "      <td>1.000</td>\n",
       "      <td>0.261</td>\n",
       "    </tr>\n",
       "    <tr>\n",
       "      <th>CBC_# PENALTY CUTS</th>\n",
       "      <td>0.387</td>\n",
       "      <td>0.180</td>\n",
       "      <td>0.217</td>\n",
       "      <td>0.009</td>\n",
       "      <td>0.157</td>\n",
       "      <td>0.551</td>\n",
       "      <td>0.154</td>\n",
       "      <td>0.665</td>\n",
       "      <td>0.261</td>\n",
       "      <td>1.000</td>\n",
       "    </tr>\n",
       "  </tbody>\n",
       "</table>\n",
       "</div>"
      ],
      "text/plain": [
       "                          F1     F2     F3    Rep   M_OF  M_TIME  CBC_OF  \\\n",
       "F1                     1.000  0.000 -0.071  0.000 -0.111   0.273  -0.121   \n",
       "F2                     0.000  1.000  0.740  0.000  0.464   0.153   0.470   \n",
       "F3                    -0.071  0.740  1.000 -0.007  0.577   0.188   0.579   \n",
       "Rep                    0.000  0.000 -0.007  1.000 -0.041   0.032  -0.038   \n",
       "M_OF                  -0.111  0.464  0.577 -0.041  1.000   0.167   0.993   \n",
       "M_TIME                 0.273  0.153  0.188  0.032  0.167   1.000   0.168   \n",
       "CBC_OF                -0.121  0.470  0.579 -0.038  0.993   0.168   1.000   \n",
       "CBC_TIME               0.293  0.143  0.180  0.017  0.206   0.722   0.206   \n",
       "CBC_#FEASIBILITY CUTS  0.126  0.022  0.086  0.059  0.008   0.128   0.005   \n",
       "CBC_# PENALTY CUTS     0.387  0.180  0.217  0.009  0.157   0.551   0.154   \n",
       "\n",
       "                       CBC_TIME  CBC_#FEASIBILITY CUTS  CBC_# PENALTY CUTS  \n",
       "F1                        0.293                  0.126               0.387  \n",
       "F2                        0.143                  0.022               0.180  \n",
       "F3                        0.180                  0.086               0.217  \n",
       "Rep                       0.017                  0.059               0.009  \n",
       "M_OF                      0.206                  0.008               0.157  \n",
       "M_TIME                    0.722                  0.128               0.551  \n",
       "CBC_OF                    0.206                  0.005               0.154  \n",
       "CBC_TIME                  1.000                  0.042               0.665  \n",
       "CBC_#FEASIBILITY CUTS     0.042                  1.000               0.261  \n",
       "CBC_# PENALTY CUTS        0.665                  0.261               1.000  "
      ]
     },
     "execution_count": 24,
     "metadata": {},
     "output_type": "execute_result"
    }
   ],
   "source": [
    "import pandas as pd\n",
    "corr_matrix = round(pd.DataFrame(matrix.collect()[0][0].toArray()),3)\n",
    "corr_matrix.columns = col_names\n",
    "corr_matrix.index = col_names\n",
    "corr_matrix"
   ]
  },
  {
   "cell_type": "markdown",
   "metadata": {},
   "source": [
    "La matrice appena ottenuta è la matrice di correlazione tra tutte le variabili (esclusa F4 in quanto categoriale)"
   ]
  },
  {
   "cell_type": "code",
   "execution_count": 25,
   "metadata": {
    "collapsed": true
   },
   "outputs": [],
   "source": [
    "from  pyspark.ml.regression import LinearRegression\n",
    "from pyspark.sql.functions import when\n",
    "\n",
    "my_data_dummy = my_data.withColumn(\"F4_A\", when(my_data.F4 == \"A\", 1).otherwise(0)).\\\n",
    "                withColumn(\"F4_B\", when(my_data.F4 == \"B\", 1).otherwise(0)).\\\n",
    "                withColumn(\"F4_C\", when(my_data.F4 == \"C\", 1).otherwise(0))\n",
    "\n",
    "my_inp = [\"F1\",\"F2\",\"F3\",\"F4_A\",\"F4_B\",\"F4_C\"]\n",
    "assembler1 = VectorAssembler(\n",
    "    inputCols=my_inp,\n",
    "    outputCol='features')\n",
    "\n",
    "my_lin_data = assembler1.transform(my_data_dummy).select(\"features\", \"M_TIME\")\n",
    "\n",
    "lr = LinearRegression(featuresCol = 'features', labelCol = 'M_TIME')\n",
    "\n",
    "lr_model = lr.fit(my_lin_data)"
   ]
  },
  {
   "cell_type": "markdown",
   "metadata": {},
   "source": [
    "Una volta ricodificata in dummies la variabile F4, stimo un modello di regressione lineare per M_TIME e visualizzo il suo summary"
   ]
  },
  {
   "cell_type": "code",
   "execution_count": 26,
   "metadata": {},
   "outputs": [
    {
     "name": "stdout",
     "output_type": "stream",
     "text": [
      "Variable \t Coefficient \t p-value\n",
      "F1 \t\t 48.347  \t 0.0\n",
      "F2 \t\t -0.025  \t 0.955\n",
      "F3 \t\t 64.573  \t 0.003\n",
      "F4_A \t\t 242.702  \t 0.0\n",
      "F4_B \t\t -73.706  \t 0.276\n",
      "F4_C \t\t -18.727  \t 0.781\n",
      "Intercept \t -801.448 \t 0.0\n"
     ]
    }
   ],
   "source": [
    "print(\"Variable \\t Coefficient \\t p-value\")\n",
    "for i in range(0,6):\n",
    "    print(my_inp[i], \"\\t\\t\", round(lr_model.coefficients[i],3), \" \\t\", round(lr_model.summary.pValues[i],3))\n",
    "print(\"Intercept \\t\", round(lr_model.intercept,3), \"\\t\", round(lr_model.summary.pValues[6],3))"
   ]
  },
  {
   "cell_type": "markdown",
   "metadata": {},
   "source": [
    "Le variabili significative con coefficiente maggiore sono F4_A (considerando F4_D come baseline), F3 e F1"
   ]
  },
  {
   "cell_type": "code",
   "execution_count": 27,
   "metadata": {
    "collapsed": true
   },
   "outputs": [],
   "source": [
    "my_lin_data2 = assembler1.transform(my_data_dummy).select(\"features\", \"CBC_TIME\")\n",
    "\n",
    "lr2 = LinearRegression(featuresCol = 'features', labelCol = 'CBC_TIME')\n",
    "\n",
    "lr_model2 = lr2.fit(my_lin_data2)"
   ]
  },
  {
   "cell_type": "markdown",
   "metadata": {},
   "source": [
    "Eseguo dunque lo stesso processo per CBC_TIME"
   ]
  },
  {
   "cell_type": "code",
   "execution_count": 28,
   "metadata": {},
   "outputs": [
    {
     "name": "stdout",
     "output_type": "stream",
     "text": [
      "Variable \t Coefficient \t p-value\n",
      "F1 \t\t 39.943  \t 0.0\n",
      "F2 \t\t -0.065  \t 0.84\n",
      "F3 \t\t 49.804  \t 0.002\n",
      "F4_A \t\t 267.913  \t 0.0\n",
      "F4_B \t\t -45.86  \t 0.362\n",
      "F4_C \t\t -35.885  \t 0.475\n",
      "Intercept \t -622.438 \t 0.0\n"
     ]
    }
   ],
   "source": [
    "print(\"Variable \\t Coefficient \\t p-value\")\n",
    "for i in range(0,6):\n",
    "    print(my_inp[i], \"\\t\\t\", round(lr_model2.coefficients[i],3), \" \\t\", round(lr_model2.summary.pValues[i],3))\n",
    "print(\"Intercept \\t\", round(lr_model2.intercept,3), \"\\t\", round(lr_model2.summary.pValues[6],3))"
   ]
  },
  {
   "cell_type": "markdown",
   "metadata": {},
   "source": [
    "Anche in questo caso valgono le stesse conclusioni del modello precedente"
   ]
  }
 ],
 "metadata": {
  "kernelspec": {
   "display_name": "Python 3",
   "language": "python",
   "name": "python3"
  },
  "language_info": {
   "codemirror_mode": {
    "name": "ipython",
    "version": 3
   },
   "file_extension": ".py",
   "mimetype": "text/x-python",
   "name": "python",
   "nbconvert_exporter": "python",
   "pygments_lexer": "ipython3",
   "version": "3.6.3"
  }
 },
 "nbformat": 4,
 "nbformat_minor": 2
}
