{
 "cells": [
  {
   "cell_type": "markdown",
   "metadata": {
    "colab_type": "text",
    "id": "i_VmX5ko52fP"
   },
   "source": [
    "**Progetto Text Mining** <br>\n",
    "Reviews classification"
   ]
  },
  {
   "cell_type": "code",
   "execution_count": 0,
   "metadata": {
    "colab": {
     "base_uri": "https://localhost:8080/",
     "height": 119
    },
    "colab_type": "code",
    "id": "cQQ2hnf1-2Jx",
    "outputId": "30e73ad1-2824-403a-86eb-4641019229f3"
   },
   "outputs": [
    {
     "name": "stdout",
     "output_type": "stream",
     "text": [
      "[nltk_data] Downloading package stopwords to /root/nltk_data...\n",
      "[nltk_data]   Package stopwords is already up-to-date!\n",
      "[nltk_data] Downloading package punkt to /root/nltk_data...\n",
      "[nltk_data]   Package punkt is already up-to-date!\n",
      "[nltk_data] Downloading package wordnet to /root/nltk_data...\n",
      "[nltk_data]   Package wordnet is already up-to-date!\n"
     ]
    }
   ],
   "source": [
    "import pandas as pd\n",
    "import numpy as np\n",
    "from google.colab import drive\n",
    "import gzip\n",
    "import nltk\n",
    "nltk.download('stopwords')\n",
    "nltk.download('punkt')\n",
    "nltk.download('wordnet')\n",
    "from nltk.corpus import stopwords\n",
    "from textblob import TextBlob\n",
    "from textblob import Word\n",
    "from sklearn.feature_extraction.text import TfidfVectorizer\n",
    "import joblib\n",
    "from sklearn.model_selection import train_test_split\n",
    "from sklearn.metrics import confusion_matrix, accuracy_score, classification_report\n",
    "from keras.models import Sequential\n",
    "from keras.layers import Dense, Activation\n",
    "from keras.utils import to_categorical\n",
    "from matplotlib import pyplot as plt"
   ]
  },
  {
   "cell_type": "code",
   "execution_count": 0,
   "metadata": {
    "colab": {
     "base_uri": "https://localhost:8080/",
     "height": 34
    },
    "colab_type": "code",
    "id": "fGa3krd7dSef",
    "outputId": "6746d72d-4ddb-41ff-cf88-83d16a7264d7"
   },
   "outputs": [
    {
     "name": "stdout",
     "output_type": "stream",
     "text": [
      "Drive already mounted at /content/gdrive; to attempt to forcibly remount, call drive.mount(\"/content/gdrive\", force_remount=True).\n"
     ]
    }
   ],
   "source": [
    "drive.mount('/content/gdrive') #login"
   ]
  },
  {
   "cell_type": "markdown",
   "metadata": {
    "colab_type": "text",
    "id": "wvZNfVK96JnM"
   },
   "source": [
    "Sono state definite due funzioni che consentono di importare i dati delle recensioni di amazon."
   ]
  },
  {
   "cell_type": "code",
   "execution_count": 0,
   "metadata": {
    "colab": {},
    "colab_type": "code",
    "id": "U7DNMynbA9dy"
   },
   "outputs": [],
   "source": [
    "def parse(path):\n",
    "    g = gzip.open(path, 'rb')\n",
    "    for l in g:\n",
    "        yield eval(l)\n",
    "\n",
    "def getDF(path):\n",
    "    i = 0\n",
    "    df = {}\n",
    "    for d in parse(path):\n",
    "        df[i] = d\n",
    "        i += 1\n",
    "    return pd.DataFrame.from_dict(df, orient='index')"
   ]
  },
  {
   "cell_type": "markdown",
   "metadata": {
    "colab_type": "text",
    "id": "VVpiSYXG6axN"
   },
   "source": [
    "Utilizzando la funzione \"getDF\" sono stati importati gli 11 dataset contenenti le reviews delle 11 categorie utilizzate."
   ]
  },
  {
   "cell_type": "code",
   "execution_count": 0,
   "metadata": {
    "colab": {},
    "colab_type": "code",
    "id": "htRVH1JWmPfj"
   },
   "outputs": [],
   "source": [
    "path = 'gdrive/My Drive/TextMining/Dataset/'\n",
    "\n",
    "df_food = getDF(path + 'reviews_Grocery_and_Gourmet_Food_5.json.gz')\n",
    "df_auto = getDF(path + 'reviews_Automotive_5.json.gz')\n",
    "df_beauty = getDF(path + 'reviews_Beauty_5.json.gz')\n",
    "df_phones = getDF(path + 'reviews_Cell_Phones_and_Accessories_5.json.gz')\n",
    "df_music = getDF(path + 'reviews_Digital_Music_5.json.gz')\n",
    "df_office = getDF(path + 'reviews_Office_Products_5.json.gz')\n",
    "df_garden = getDF(path + 'reviews_Patio_Lawn_and_Garden_5.json.gz')\n",
    "df_pet = getDF(path + 'reviews_Pet_Supplies_5.json.gz')\n",
    "df_home = getDF(path + 'reviews_Tools_and_Home_Improvement_5.json.gz')\n",
    "df_toys = getDF(path + 'reviews_Toys_and_Games_5.json.gz')\n",
    "df_vgames = getDF(path + 'reviews_Video_Games_5.json.gz')"
   ]
  },
  {
   "cell_type": "markdown",
   "metadata": {
    "colab_type": "text",
    "id": "HCrGwxwX7ENA"
   },
   "source": [
    "Di seguito è riportato il numero di reviews per ogni categoria."
   ]
  },
  {
   "cell_type": "code",
   "execution_count": 0,
   "metadata": {
    "colab": {
     "base_uri": "https://localhost:8080/",
     "height": 204
    },
    "colab_type": "code",
    "id": "WWVFq4Fbni_2",
    "outputId": "006a3ae9-66cd-4552-cfba-3fc417d3cf20"
   },
   "outputs": [
    {
     "name": "stdout",
     "output_type": "stream",
     "text": [
      "151254\n",
      "20473\n",
      "198502\n",
      "194439\n",
      "64706\n",
      "53258\n",
      "13272\n",
      "157836\n",
      "134476\n",
      "167597\n",
      "231780\n"
     ]
    }
   ],
   "source": [
    "tot_df = [df_food, df_auto, df_beauty, df_phones, df_music, df_office, df_garden, df_pet, df_home, df_toys, df_vgames]\n",
    "for el in tot_df:\n",
    "    print(len(el))"
   ]
  },
  {
   "cell_type": "markdown",
   "metadata": {
    "colab_type": "text",
    "id": "E3O1kT-W7NYb"
   },
   "source": [
    "Gli 11 dataset sono stati concatenati in un unico dataframe con 1387593 osservazioni. Inoltre, è stata aggiunta la variabile \"y\" che indica la categoria di appartenenza (con un indice che va da 0 a 10)."
   ]
  },
  {
   "cell_type": "code",
   "execution_count": 0,
   "metadata": {
    "colab": {
     "base_uri": "https://localhost:8080/",
     "height": 34
    },
    "colab_type": "code",
    "id": "y6qw5wB3noXw",
    "outputId": "f687b0ca-0a62-4875-eab5-e032a95e8f09"
   },
   "outputs": [
    {
     "data": {
      "text/plain": [
       "1387593"
      ]
     },
     "execution_count": 6,
     "metadata": {
      "tags": []
     },
     "output_type": "execute_result"
    }
   ],
   "source": [
    "i = 0\n",
    "for el in tot_df:\n",
    "    el['y'] = i\n",
    "    i += 1\n",
    "df = pd.concat(tot_df)\n",
    "n_labels = i\n",
    "len(df)"
   ]
  },
  {
   "cell_type": "markdown",
   "metadata": {
    "colab_type": "text",
    "id": "tZ_xYByW7lYo"
   },
   "source": [
    "Le colonne di interesse per l'analisi sono \"reviewText\" e \"y\"."
   ]
  },
  {
   "cell_type": "code",
   "execution_count": 0,
   "metadata": {
    "colab": {
     "base_uri": "https://localhost:8080/",
     "height": 68
    },
    "colab_type": "code",
    "id": "ViRGHhBZBHLI",
    "outputId": "86256062-3495-46bd-a082-43fc7c081261"
   },
   "outputs": [
    {
     "data": {
      "text/plain": [
       "Index(['reviewerID', 'asin', 'reviewerName', 'helpful', 'reviewText',\n",
       "       'overall', 'summary', 'unixReviewTime', 'reviewTime', 'y'],\n",
       "      dtype='object')"
      ]
     },
     "execution_count": 7,
     "metadata": {
      "tags": []
     },
     "output_type": "execute_result"
    }
   ],
   "source": [
    "df.columns"
   ]
  },
  {
   "cell_type": "markdown",
   "metadata": {
    "colab_type": "text",
    "id": "5NuMhc-u7sKw"
   },
   "source": [
    "È stato dunque salvato il subsetting del dataset con solo le due colonne di interesse in una nuova variabile."
   ]
  },
  {
   "cell_type": "code",
   "execution_count": 0,
   "metadata": {
    "colab": {
     "base_uri": "https://localhost:8080/",
     "height": 119
    },
    "colab_type": "code",
    "id": "Q1ZT8w4iCSX5",
    "outputId": "2bd89184-7e64-4268-bd4f-a77e03955f43"
   },
   "outputs": [
    {
     "data": {
      "text/plain": [
       "0    Just another flavor of Kit Kat but the taste i...\n",
       "1    I bought this on impulse and it comes from Jap...\n",
       "2    Really good. Great gift for any fan of green t...\n",
       "3    I had never had it before, was curious to see ...\n",
       "4    I've been looking forward to trying these afte...\n",
       "Name: reviewText, dtype: object"
      ]
     },
     "execution_count": 8,
     "metadata": {
      "tags": []
     },
     "output_type": "execute_result"
    }
   ],
   "source": [
    "my_data = df[['reviewText','y']]\n",
    "my_data['reviewText'].head()"
   ]
  },
  {
   "cell_type": "markdown",
   "metadata": {
    "colab_type": "text",
    "id": "WVr5MRwVFhWC"
   },
   "source": [
    "**Preprocessing del testo** <br>\n",
    "Nella prima fase di preprocessing tutto il testo è stato reso minuscolo."
   ]
  },
  {
   "cell_type": "code",
   "execution_count": 0,
   "metadata": {
    "colab": {
     "base_uri": "https://localhost:8080/",
     "height": 221
    },
    "colab_type": "code",
    "id": "62irINRpDwwT",
    "outputId": "217b40f0-8aec-43aa-926c-83583f96f2b4"
   },
   "outputs": [
    {
     "name": "stderr",
     "output_type": "stream",
     "text": [
      "/usr/local/lib/python3.6/dist-packages/ipykernel_launcher.py:1: SettingWithCopyWarning: \n",
      "A value is trying to be set on a copy of a slice from a DataFrame.\n",
      "Try using .loc[row_indexer,col_indexer] = value instead\n",
      "\n",
      "See the caveats in the documentation: http://pandas.pydata.org/pandas-docs/stable/indexing.html#indexing-view-versus-copy\n",
      "  \"\"\"Entry point for launching an IPython kernel.\n"
     ]
    },
    {
     "data": {
      "text/plain": [
       "0    just another flavor of kit kat but the taste i...\n",
       "1    i bought this on impulse and it comes from jap...\n",
       "2    really good. great gift for any fan of green t...\n",
       "3    i had never had it before, was curious to see ...\n",
       "4    i've been looking forward to trying these afte...\n",
       "Name: reviewText, dtype: object"
      ]
     },
     "execution_count": 9,
     "metadata": {
      "tags": []
     },
     "output_type": "execute_result"
    }
   ],
   "source": [
    "my_data['reviewText'] = my_data['reviewText'].apply(lambda x: \" \".join(x.lower() for x in x.split()))\n",
    "my_data['reviewText'].head()"
   ]
  },
  {
   "cell_type": "markdown",
   "metadata": {
    "colab_type": "text",
    "id": "WL2If127FkR5"
   },
   "source": [
    "Successivamente, è stata rimossa la punteggiatura."
   ]
  },
  {
   "cell_type": "code",
   "execution_count": 0,
   "metadata": {
    "colab": {
     "base_uri": "https://localhost:8080/",
     "height": 221
    },
    "colab_type": "code",
    "id": "9ecsRsEzFVVY",
    "outputId": "3d8e0fc2-50cb-44de-aad0-be268117763b"
   },
   "outputs": [
    {
     "name": "stderr",
     "output_type": "stream",
     "text": [
      "/usr/local/lib/python3.6/dist-packages/ipykernel_launcher.py:1: SettingWithCopyWarning: \n",
      "A value is trying to be set on a copy of a slice from a DataFrame.\n",
      "Try using .loc[row_indexer,col_indexer] = value instead\n",
      "\n",
      "See the caveats in the documentation: http://pandas.pydata.org/pandas-docs/stable/indexing.html#indexing-view-versus-copy\n",
      "  \"\"\"Entry point for launching an IPython kernel.\n"
     ]
    },
    {
     "data": {
      "text/plain": [
       "0    just another flavor of kit kat but the taste i...\n",
       "1    i bought this on impulse and it comes from jap...\n",
       "2    really good great gift for any fan of green te...\n",
       "3    i had never had it before was curious to see w...\n",
       "4    ive been looking forward to trying these after...\n",
       "Name: reviewText, dtype: object"
      ]
     },
     "execution_count": 10,
     "metadata": {
      "tags": []
     },
     "output_type": "execute_result"
    }
   ],
   "source": [
    "my_data['reviewText'] = my_data['reviewText'].str.replace('[^\\w\\s]','')\n",
    "my_data['reviewText'].head()"
   ]
  },
  {
   "cell_type": "markdown",
   "metadata": {
    "colab_type": "text",
    "id": "35QIUfKmFmX-"
   },
   "source": [
    "Sono state inoltre rimosse le stop words tramite il libreria \"nltk\" che mette a disposizione un dizionario di stopwords inglesi."
   ]
  },
  {
   "cell_type": "code",
   "execution_count": 0,
   "metadata": {
    "colab": {
     "base_uri": "https://localhost:8080/",
     "height": 221
    },
    "colab_type": "code",
    "id": "byCF6uZXFodN",
    "outputId": "866441e5-658a-45b6-906f-99f7559a52f1"
   },
   "outputs": [
    {
     "name": "stderr",
     "output_type": "stream",
     "text": [
      "/usr/local/lib/python3.6/dist-packages/ipykernel_launcher.py:2: SettingWithCopyWarning: \n",
      "A value is trying to be set on a copy of a slice from a DataFrame.\n",
      "Try using .loc[row_indexer,col_indexer] = value instead\n",
      "\n",
      "See the caveats in the documentation: http://pandas.pydata.org/pandas-docs/stable/indexing.html#indexing-view-versus-copy\n",
      "  \n"
     ]
    },
    {
     "data": {
      "text/plain": [
       "0    another flavor kit kat taste unique bit differ...\n",
       "1    bought impulse comes japan amused family weird...\n",
       "2    really good great gift fan green tea expensive...\n",
       "3    never curious see like smooth great subtle goo...\n",
       "4    ive looking forward trying hearing popular jap...\n",
       "Name: reviewText, dtype: object"
      ]
     },
     "execution_count": 11,
     "metadata": {
      "tags": []
     },
     "output_type": "execute_result"
    }
   ],
   "source": [
    "stop = stopwords.words('english')\n",
    "my_data['reviewText'] = my_data['reviewText'].apply(lambda x: \" \".join(x for x in x.split() if x not in stop))\n",
    "my_data['reviewText'].head()"
   ]
  },
  {
   "cell_type": "markdown",
   "metadata": {
    "colab_type": "text",
    "id": "agyk_fkEKTc5"
   },
   "source": [
    "Un'altra fase importante della pipeline di preprocessing è la lemmatization, tecnica utilizzata per riportare semanticamente al lemma le parole presenti nel testo. È stata preferita la lemmatization allo stemming in quanto con il modulo python che la implementa sono stati ottenuti buoni risultati in tempi computazionali ragionevoli, mentre con l'algoritmo di Porter per lo stemming i tempi computazionali erano troppo lunghi. Inoltre, la lemmatization garantisce una distinzione semantica tra termini con la stessa radice, ma utilizzati in contesti diversi. Anche per questo motivo risulta essere una tecnica opportuna per il task di classificazione in esame.\n",
    "\n"
   ]
  },
  {
   "cell_type": "code",
   "execution_count": 0,
   "metadata": {
    "colab": {
     "base_uri": "https://localhost:8080/",
     "height": 221
    },
    "colab_type": "code",
    "id": "hMCEPae8KLG3",
    "outputId": "f71a324d-7194-44e2-f4f7-b5a8afb3f333"
   },
   "outputs": [
    {
     "name": "stderr",
     "output_type": "stream",
     "text": [
      "/usr/local/lib/python3.6/dist-packages/ipykernel_launcher.py:1: SettingWithCopyWarning: \n",
      "A value is trying to be set on a copy of a slice from a DataFrame.\n",
      "Try using .loc[row_indexer,col_indexer] = value instead\n",
      "\n",
      "See the caveats in the documentation: http://pandas.pydata.org/pandas-docs/stable/indexing.html#indexing-view-versus-copy\n",
      "  \"\"\"Entry point for launching an IPython kernel.\n"
     ]
    },
    {
     "data": {
      "text/plain": [
       "0    another flavor kit kat taste unique bit differ...\n",
       "1    bought impulse come japan amused family weird ...\n",
       "2    really good great gift fan green tea expensive...\n",
       "3    never curious see like smooth great subtle goo...\n",
       "4    ive looking forward trying hearing popular jap...\n",
       "Name: reviewText, dtype: object"
      ]
     },
     "execution_count": 14,
     "metadata": {
      "tags": []
     },
     "output_type": "execute_result"
    }
   ],
   "source": [
    "my_data['reviewText'] = my_data['reviewText'].apply(lambda x: \" \".join([Word(word).lemmatize() for word in x.split()]))\n",
    "my_data['reviewText'].head()"
   ]
  },
  {
   "cell_type": "markdown",
   "metadata": {
    "colab_type": "text",
    "id": "XtGsfvHiCA4Y"
   },
   "source": [
    "È stata infine costruita una matrice avente numero di righe pari al numero di osservazioni e 10000 colonne. Il peso associato ad ogni cella è la tf-idf del termine (colonna) per una determinate recensione (riga). Ovviamente ci sarebbero più di 10000 termini da considerare, ma per ridurre la sparsità, con la funzione TfidfVectorizer del pacchetto \"sklearn\", è stato deciso di tenere solo 10000 features (i termini più significativi)."
   ]
  },
  {
   "cell_type": "code",
   "execution_count": 0,
   "metadata": {
    "colab": {},
    "colab_type": "code",
    "id": "lJ5leNcyKeMm"
   },
   "outputs": [],
   "source": [
    "tfidf = TfidfVectorizer(max_features=10000, analyzer='word',ngram_range=(1,1))\n",
    "train_vect = tfidf.fit_transform(my_data['reviewText'])"
   ]
  },
  {
   "cell_type": "markdown",
   "metadata": {
    "colab_type": "text",
    "id": "uK0LlxAQFHfZ"
   },
   "source": [
    "Il risultato di questa operazione è una matrice sparsa con 1387593 righe e 10000 colonne."
   ]
  },
  {
   "cell_type": "code",
   "execution_count": 0,
   "metadata": {
    "colab": {
     "base_uri": "https://localhost:8080/",
     "height": 51
    },
    "colab_type": "code",
    "id": "6xfbQL_2LaTT",
    "outputId": "b4004f88-0c5d-4d9f-ff40-867c763f6662"
   },
   "outputs": [
    {
     "data": {
      "text/plain": [
       "<1387593x10000 sparse matrix of type '<class 'numpy.float64'>'\n",
       "\twith 60263283 stored elements in Compressed Sparse Row format>"
      ]
     },
     "execution_count": 16,
     "metadata": {
      "tags": []
     },
     "output_type": "execute_result"
    }
   ],
   "source": [
    "train_vect"
   ]
  },
  {
   "cell_type": "markdown",
   "metadata": {
    "colab_type": "text",
    "id": "yuP_B9NHH6Zv"
   },
   "source": [
    "Per comodità, la colonna \"y\" del dataframe \"my_data\" è stata salvata in una variabile."
   ]
  },
  {
   "cell_type": "code",
   "execution_count": 0,
   "metadata": {
    "colab": {},
    "colab_type": "code",
    "id": "yfbWwB54IENV"
   },
   "outputs": [],
   "source": [
    "y = my_data.y"
   ]
  },
  {
   "cell_type": "markdown",
   "metadata": {
    "colab_type": "text",
    "id": "scnAOMVgHBY2"
   },
   "source": [
    "Dal momento che il procedimento fino a qui svolto risulta essere abbastanza oneroso dal punto di vista computazionale, è stato fatto un dump della matrice sparsa e delle labels tramite la libreria joblib."
   ]
  },
  {
   "cell_type": "code",
   "execution_count": 0,
   "metadata": {
    "colab": {
     "base_uri": "https://localhost:8080/",
     "height": 34
    },
    "colab_type": "code",
    "id": "GEkeaJ1inhFs",
    "outputId": "5c802547-ee84-41d5-d739-32d1638cc4ce"
   },
   "outputs": [
    {
     "data": {
      "text/plain": [
       "['feat_data.joblib']"
      ]
     },
     "execution_count": 18,
     "metadata": {
      "tags": []
     },
     "output_type": "execute_result"
    }
   ],
   "source": [
    "joblib.dump([train_vect, y], 'feat_data.joblib')\n",
    "#my_dump = joblib.load('feat_data.joblib')\n",
    "#train_vect = my_dump[0]\n",
    "#y = my_dump[1]"
   ]
  },
  {
   "cell_type": "markdown",
   "metadata": {
    "colab_type": "text",
    "id": "1bBCCIGCFRtS"
   },
   "source": [
    "**Classification** <br>\n",
    "Il dataset è stato diviso in training set e test set. Nel test set saranno presenti il 10% delle osservazioni totali. Tale percentuale risulta essere adeguata dato il numero elevato di osservazioni totali."
   ]
  },
  {
   "cell_type": "code",
   "execution_count": 0,
   "metadata": {
    "colab": {},
    "colab_type": "code",
    "id": "drPhn73vs7Za"
   },
   "outputs": [],
   "source": [
    "X_train, X_test, y_train, y_test = train_test_split(train_vect, y, test_size=0.1, random_state=1)"
   ]
  },
  {
   "cell_type": "code",
   "execution_count": 0,
   "metadata": {
    "colab": {
     "base_uri": "https://localhost:8080/",
     "height": 34
    },
    "colab_type": "code",
    "id": "GggwO_TftL8y",
    "outputId": "a8b79f2b-5828-499a-d8bd-3f299914e353"
   },
   "outputs": [
    {
     "data": {
      "text/plain": [
       "138760"
      ]
     },
     "execution_count": 24,
     "metadata": {
      "tags": []
     },
     "output_type": "execute_result"
    }
   ],
   "source": [
    "len(y_test)"
   ]
  },
  {
   "cell_type": "markdown",
   "metadata": {
    "colab_type": "text",
    "id": "E1G9ocxXFqT6"
   },
   "source": [
    "È stata dunque utilizzato come classificatore una rete neurale fully connected con 4 strati nascosti (con rispettivamente 2048 - 2048 - 1024 - 512 neuroni). Come funzione di attivazione per i neuroni degli strati nascosti viene utilizzata la \"relu\", mentre lo strato di output ha 11 neuroni a cui viene applicata la funzioni di attivazione softmax. In questo modo la rete ci fornirà in output la probabilità di appartenenza alle classi."
   ]
  },
  {
   "cell_type": "code",
   "execution_count": 0,
   "metadata": {
    "colab": {},
    "colab_type": "code",
    "id": "YKZr5ISR1aZs"
   },
   "outputs": [],
   "source": [
    "model = Sequential([\n",
    "    Dense(2048, input_dim=10000),\n",
    "    Activation('relu'),\n",
    "    Dense(2048),\n",
    "    Activation('relu'),\n",
    "    Dense(1024),\n",
    "    Activation('relu'),\n",
    "    Dense(512),\n",
    "    Activation('relu'),\n",
    "    Dense(n_labels),\n",
    "    Activation('softmax'),\n",
    "])"
   ]
  },
  {
   "cell_type": "markdown",
   "metadata": {
    "colab_type": "text",
    "id": "HwqRKb2WGh6Y"
   },
   "source": [
    "Come ottimizzatore è stato utilizzato \"adam\" con parametri di default e come funzione di perdita è stata scelta la \"categorical crossentropy\". È stata anche dichiarata come metrica da valutare l'accuracy."
   ]
  },
  {
   "cell_type": "code",
   "execution_count": 0,
   "metadata": {
    "colab": {},
    "colab_type": "code",
    "id": "Mz-3YRVg2YXO"
   },
   "outputs": [],
   "source": [
    "model.compile(optimizer='adam',\n",
    "              loss='categorical_crossentropy',\n",
    "              metrics=['accuracy'])"
   ]
  },
  {
   "cell_type": "markdown",
   "metadata": {
    "colab_type": "text",
    "id": "j-LQv5rIJNrp"
   },
   "source": [
    "È necessario infine utilizzare la \"one hot encode\" come codifica della variabile risposta."
   ]
  },
  {
   "cell_type": "code",
   "execution_count": 0,
   "metadata": {
    "colab": {},
    "colab_type": "code",
    "id": "oKQz6AXEfSWt"
   },
   "outputs": [],
   "source": [
    "one_hot_labels = to_categorical(y_train, num_classes=n_labels)"
   ]
  },
  {
   "cell_type": "markdown",
   "metadata": {
    "colab_type": "text",
    "id": "Behp6-BkG1L6"
   },
   "source": [
    "Nella fase di training del modello vengono utilizzate 3 epoche e batch size pari a 1024. Sebbene come batch size è abbastanza grande, il numero di osservazioni presenti nel training set ci consente comunque di ottenere ottime prestazioni. Inoltre, con una batch size elevata, il tempo di computazione si riduce notevolmente. Da notare infine che il 20% dei dati di training viene utilizzato come validation set, su cui verranno valutate accuracy e loss function alla fine di ogni epoca."
   ]
  },
  {
   "cell_type": "code",
   "execution_count": 0,
   "metadata": {
    "colab": {
     "base_uri": "https://localhost:8080/",
     "height": 153
    },
    "colab_type": "code",
    "id": "GN7Es80g2lwC",
    "outputId": "68ac5641-1bd8-4b3a-d094-61f2853c9ed6"
   },
   "outputs": [
    {
     "name": "stdout",
     "output_type": "stream",
     "text": [
      "Train on 999066 samples, validate on 249767 samples\n",
      "Epoch 1/3\n",
      "999066/999066 [==============================] - 152s 153us/step - loss: 0.2786 - acc: 0.9134 - val_loss: 0.2198 - val_acc: 0.9302\n",
      "Epoch 2/3\n",
      "999066/999066 [==============================] - 151s 151us/step - loss: 0.1490 - acc: 0.9529 - val_loss: 0.2092 - val_acc: 0.9352\n",
      "Epoch 3/3\n",
      "999066/999066 [==============================] - 151s 151us/step - loss: 0.0576 - acc: 0.9817 - val_loss: 0.2587 - val_acc: 0.9322\n"
     ]
    },
    {
     "data": {
      "text/plain": [
       "<keras.callbacks.History at 0x7f9bd5d4b908>"
      ]
     },
     "execution_count": 23,
     "metadata": {
      "tags": []
     },
     "output_type": "execute_result"
    }
   ],
   "source": [
    "model.fit(X_train, one_hot_labels, epochs=3, batch_size=1024, validation_split=0.2)"
   ]
  },
  {
   "cell_type": "markdown",
   "metadata": {
    "colab_type": "text",
    "id": "4ow5LBDIHEib"
   },
   "source": [
    "Viene raggiunta una accuracy di 0.9817 sul training set e di 0.9322 sul validation set. <br>\n",
    "La rete trainata è stata quindi utilizzata per predirre i dati di test."
   ]
  },
  {
   "cell_type": "code",
   "execution_count": 0,
   "metadata": {
    "colab": {},
    "colab_type": "code",
    "id": "CO36PeM72uLZ"
   },
   "outputs": [],
   "source": [
    "y_preds = model.predict(X_test)"
   ]
  },
  {
   "cell_type": "markdown",
   "metadata": {
    "colab_type": "text",
    "id": "GooKyNwEHYac"
   },
   "source": [
    "Visto che il modello mi restituisce la probabilità di appartenenza alle 11 classi, è stata scelta come classe predetta dal modello quella con probabilità associata maggiore. "
   ]
  },
  {
   "cell_type": "code",
   "execution_count": 0,
   "metadata": {
    "colab": {},
    "colab_type": "code",
    "id": "GA9HTFxJ3OqL"
   },
   "outputs": [],
   "source": [
    "y_preds = [x.argmax() for x in y_preds]"
   ]
  },
  {
   "cell_type": "markdown",
   "metadata": {
    "colab_type": "text",
    "id": "qr_bvZJ0Hoy9"
   },
   "source": [
    "La rappresentazione visuale della confusion matrix tra categoria reale e categoria predetta in fase di test è la seguente."
   ]
  },
  {
   "cell_type": "code",
   "execution_count": 0,
   "metadata": {
    "colab": {
     "base_uri": "https://localhost:8080/",
     "height": 364
    },
    "colab_type": "code",
    "id": "qNna-oKt3Pof",
    "outputId": "52677ecc-afe0-444d-e517-92e57ece7d65"
   },
   "outputs": [
    {
     "data": {
      "text/plain": [
       "<matplotlib.image.AxesImage at 0x7f9bd9c55e10>"
      ]
     },
     "execution_count": 27,
     "metadata": {
      "tags": []
     },
     "output_type": "execute_result"
    },
    {
     "data": {
      "image/png": "[encoded data removed]",
      "text/plain": [
       "<matplotlib.figure.Figure at 0x7f9bd670d8d0>"
      ]
     },
     "metadata": {
      "tags": []
     },
     "output_type": "display_data"
    }
   ],
   "source": [
    "cm = confusion_matrix(y_test, y_preds)\n",
    "plt.imshow(cm, cmap='Blues')"
   ]
  },
  {
   "cell_type": "markdown",
   "metadata": {
    "colab_type": "text",
    "id": "JW8k9lDPH1ZW"
   },
   "source": [
    "Si ottiene dunque la seguente accuracy."
   ]
  },
  {
   "cell_type": "code",
   "execution_count": 0,
   "metadata": {
    "colab": {
     "base_uri": "https://localhost:8080/",
     "height": 34
    },
    "colab_type": "code",
    "id": "IFZOB_T44GuV",
    "outputId": "6144a27d-d113-4470-d10e-84301f4c314c"
   },
   "outputs": [
    {
     "data": {
      "text/plain": [
       "0.9314067454597866"
      ]
     },
     "execution_count": 28,
     "metadata": {
      "tags": []
     },
     "output_type": "execute_result"
    }
   ],
   "source": [
    "accuracy_score(y_test, y_preds)"
   ]
  },
  {
   "cell_type": "markdown",
   "metadata": {
    "colab_type": "text",
    "id": "P6TP9qiOH31W"
   },
   "source": [
    "Anche se si può notare un leggero overfitting, i risultati ottenuti in fase di test sono comunque buoni. <br>\n",
    "Il report di classificazione in cui vengono riportati precision, recall e f1-score è il seguente."
   ]
  },
  {
   "cell_type": "code",
   "execution_count": 0,
   "metadata": {
    "colab": {
     "base_uri": "https://localhost:8080/",
     "height": 323
    },
    "colab_type": "code",
    "id": "qMxmesMJy9r_",
    "outputId": "d3647f3f-d581-4866-aa58-9c8192a0f504"
   },
   "outputs": [
    {
     "name": "stdout",
     "output_type": "stream",
     "text": [
      "              precision    recall  f1-score   support\n",
      "\n",
      "           0       0.97      0.96      0.97     15100\n",
      "           1       0.79      0.66      0.72      2068\n",
      "           2       0.94      0.94      0.94     19965\n",
      "           3       0.93      0.93      0.93     19216\n",
      "           4       0.98      0.98      0.98      6535\n",
      "           5       0.87      0.92      0.90      5318\n",
      "           6       0.78      0.78      0.78      1263\n",
      "           7       0.93      0.94      0.93     15850\n",
      "           8       0.88      0.87      0.88     13575\n",
      "           9       0.92      0.93      0.92     16759\n",
      "          10       0.96      0.96      0.96     23111\n",
      "\n",
      "   micro avg       0.93      0.93      0.93    138760\n",
      "   macro avg       0.90      0.90      0.90    138760\n",
      "weighted avg       0.93      0.93      0.93    138760\n",
      "\n"
     ]
    }
   ],
   "source": [
    "print(classification_report(y_test, y_preds))"
   ]
  },
  {
   "cell_type": "markdown",
   "metadata": {
    "colab_type": "text",
    "id": "TNWZhtv0HQyF"
   },
   "source": [
    "Anche considerando questo genere di metriche, i risultati ottenuti sono decisamente buoni."
   ]
  }
 ],
 "metadata": {
  "accelerator": "GPU",
  "colab": {
   "collapsed_sections": [],
   "name": "progetto text mining.ipynb",
   "provenance": [],
   "version": "0.3.2"
  },
  "kernelspec": {
   "display_name": "Python 3",
   "language": "python",
   "name": "python3"
  },
  "language_info": {
   "codemirror_mode": {
    "name": "ipython",
    "version": 3
   },
   "file_extension": ".py",
   "mimetype": "text/x-python",
   "name": "python",
   "nbconvert_exporter": "python",
   "pygments_lexer": "ipython3",
   "version": "3.6.7"
  }
 },
 "nbformat": 4,
 "nbformat_minor": 1
}
